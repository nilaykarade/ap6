{
  "cells": [
    {
      "cell_type": "code",
      "source": [
        "#Install Java Development kit for Spark\n",
        "!apt-get install openjdk-8-jdk"
      ],
      "metadata": {
        "colab": {
          "base_uri": "https://localhost:8080/"
        },
        "id": "I23GKaP_jN46",
        "outputId": "6fc27a91-ecae-4ee2-d995-2e22af21e9de"
      },
      "execution_count": 1,
      "outputs": [
        {
          "output_type": "stream",
          "name": "stdout",
          "text": [
            "Reading package lists... Done\n",
            "Building dependency tree... Done\n",
            "Reading state information... Done\n",
            "The following additional packages will be installed:\n",
            "  fonts-dejavu-core fonts-dejavu-extra libatk-wrapper-java libatk-wrapper-java-jni libfontenc1\n",
            "  libgail-common libgail18 libgtk2.0-0 libgtk2.0-bin libgtk2.0-common libice-dev librsvg2-common\n",
            "  libsm-dev libxkbfile1 libxt-dev libxtst6 libxxf86dga1 openjdk-8-jdk-headless openjdk-8-jre\n",
            "  openjdk-8-jre-headless x11-utils\n",
            "Suggested packages:\n",
            "  gvfs libice-doc libsm-doc libxt-doc openjdk-8-demo openjdk-8-source visualvm libnss-mdns\n",
            "  fonts-nanum fonts-ipafont-gothic fonts-ipafont-mincho fonts-wqy-microhei fonts-wqy-zenhei\n",
            "  fonts-indic mesa-utils\n",
            "The following NEW packages will be installed:\n",
            "  fonts-dejavu-core fonts-dejavu-extra libatk-wrapper-java libatk-wrapper-java-jni libfontenc1\n",
            "  libgail-common libgail18 libgtk2.0-0 libgtk2.0-bin libgtk2.0-common libice-dev librsvg2-common\n",
            "  libsm-dev libxkbfile1 libxt-dev libxtst6 libxxf86dga1 openjdk-8-jdk openjdk-8-jdk-headless\n",
            "  openjdk-8-jre openjdk-8-jre-headless x11-utils\n",
            "0 upgraded, 22 newly installed, 0 to remove and 45 not upgraded.\n",
            "Need to get 50.1 MB of archives.\n",
            "After this operation, 169 MB of additional disk space will be used.\n",
            "Get:1 http://archive.ubuntu.com/ubuntu jammy/main amd64 fonts-dejavu-core all 2.37-2build1 [1,041 kB]\n",
            "Get:2 http://archive.ubuntu.com/ubuntu jammy/main amd64 fonts-dejavu-extra all 2.37-2build1 [2,041 kB]\n",
            "Get:3 http://archive.ubuntu.com/ubuntu jammy/main amd64 libfontenc1 amd64 1:1.1.4-1build3 [14.7 kB]\n",
            "Get:4 http://archive.ubuntu.com/ubuntu jammy/main amd64 libxkbfile1 amd64 1:1.1.0-1build3 [71.8 kB]\n",
            "Get:5 http://archive.ubuntu.com/ubuntu jammy/main amd64 libxtst6 amd64 2:1.2.3-1build4 [13.4 kB]\n",
            "Get:6 http://archive.ubuntu.com/ubuntu jammy/main amd64 libxxf86dga1 amd64 2:1.1.5-0ubuntu3 [12.6 kB]\n",
            "Get:7 http://archive.ubuntu.com/ubuntu jammy/main amd64 x11-utils amd64 7.7+5build2 [206 kB]\n",
            "Get:8 http://archive.ubuntu.com/ubuntu jammy/main amd64 libatk-wrapper-java all 0.38.0-5build1 [53.1 kB]\n",
            "Get:9 http://archive.ubuntu.com/ubuntu jammy/main amd64 libatk-wrapper-java-jni amd64 0.38.0-5build1 [49.0 kB]\n",
            "Get:10 http://archive.ubuntu.com/ubuntu jammy/main amd64 libgtk2.0-common all 2.24.33-2ubuntu2 [125 kB]\n",
            "Get:11 http://archive.ubuntu.com/ubuntu jammy/main amd64 libgtk2.0-0 amd64 2.24.33-2ubuntu2 [2,037 kB]\n",
            "Get:12 http://archive.ubuntu.com/ubuntu jammy/main amd64 libgail18 amd64 2.24.33-2ubuntu2 [15.9 kB]\n",
            "Get:13 http://archive.ubuntu.com/ubuntu jammy/main amd64 libgail-common amd64 2.24.33-2ubuntu2 [132 kB]\n",
            "Get:14 http://archive.ubuntu.com/ubuntu jammy/main amd64 libgtk2.0-bin amd64 2.24.33-2ubuntu2 [7,932 B]\n",
            "Get:15 http://archive.ubuntu.com/ubuntu jammy/main amd64 libice-dev amd64 2:1.0.10-1build2 [51.4 kB]\n",
            "Get:16 http://archive.ubuntu.com/ubuntu jammy-updates/main amd64 librsvg2-common amd64 2.52.5+dfsg-3ubuntu0.2 [17.7 kB]\n",
            "Get:17 http://archive.ubuntu.com/ubuntu jammy/main amd64 libsm-dev amd64 2:1.2.3-1build2 [18.1 kB]\n",
            "Get:18 http://archive.ubuntu.com/ubuntu jammy/main amd64 libxt-dev amd64 1:1.2.1-1 [396 kB]\n",
            "Get:19 http://archive.ubuntu.com/ubuntu jammy-updates/universe amd64 openjdk-8-jre-headless amd64 8u402-ga-2ubuntu1~22.04 [30.8 MB]\n",
            "Get:20 http://archive.ubuntu.com/ubuntu jammy-updates/universe amd64 openjdk-8-jre amd64 8u402-ga-2ubuntu1~22.04 [75.5 kB]\n",
            "Get:21 http://archive.ubuntu.com/ubuntu jammy-updates/universe amd64 openjdk-8-jdk-headless amd64 8u402-ga-2ubuntu1~22.04 [8,873 kB]\n",
            "Get:22 http://archive.ubuntu.com/ubuntu jammy-updates/universe amd64 openjdk-8-jdk amd64 8u402-ga-2ubuntu1~22.04 [4,068 kB]\n",
            "Fetched 50.1 MB in 2s (29.5 MB/s)\n",
            "Selecting previously unselected package fonts-dejavu-core.\n",
            "(Reading database ... 121918 files and directories currently installed.)\n",
            "Preparing to unpack .../00-fonts-dejavu-core_2.37-2build1_all.deb ...\n",
            "Unpacking fonts-dejavu-core (2.37-2build1) ...\n",
            "Selecting previously unselected package fonts-dejavu-extra.\n",
            "Preparing to unpack .../01-fonts-dejavu-extra_2.37-2build1_all.deb ...\n",
            "Unpacking fonts-dejavu-extra (2.37-2build1) ...\n",
            "Selecting previously unselected package libfontenc1:amd64.\n",
            "Preparing to unpack .../02-libfontenc1_1%3a1.1.4-1build3_amd64.deb ...\n",
            "Unpacking libfontenc1:amd64 (1:1.1.4-1build3) ...\n",
            "Selecting previously unselected package libxkbfile1:amd64.\n",
            "Preparing to unpack .../03-libxkbfile1_1%3a1.1.0-1build3_amd64.deb ...\n",
            "Unpacking libxkbfile1:amd64 (1:1.1.0-1build3) ...\n",
            "Selecting previously unselected package libxtst6:amd64.\n",
            "Preparing to unpack .../04-libxtst6_2%3a1.2.3-1build4_amd64.deb ...\n",
            "Unpacking libxtst6:amd64 (2:1.2.3-1build4) ...\n",
            "Selecting previously unselected package libxxf86dga1:amd64.\n",
            "Preparing to unpack .../05-libxxf86dga1_2%3a1.1.5-0ubuntu3_amd64.deb ...\n",
            "Unpacking libxxf86dga1:amd64 (2:1.1.5-0ubuntu3) ...\n",
            "Selecting previously unselected package x11-utils.\n",
            "Preparing to unpack .../06-x11-utils_7.7+5build2_amd64.deb ...\n",
            "Unpacking x11-utils (7.7+5build2) ...\n",
            "Selecting previously unselected package libatk-wrapper-java.\n",
            "Preparing to unpack .../07-libatk-wrapper-java_0.38.0-5build1_all.deb ...\n",
            "Unpacking libatk-wrapper-java (0.38.0-5build1) ...\n",
            "Selecting previously unselected package libatk-wrapper-java-jni:amd64.\n",
            "Preparing to unpack .../08-libatk-wrapper-java-jni_0.38.0-5build1_amd64.deb ...\n",
            "Unpacking libatk-wrapper-java-jni:amd64 (0.38.0-5build1) ...\n",
            "Selecting previously unselected package libgtk2.0-common.\n",
            "Preparing to unpack .../09-libgtk2.0-common_2.24.33-2ubuntu2_all.deb ...\n",
            "Unpacking libgtk2.0-common (2.24.33-2ubuntu2) ...\n",
            "Selecting previously unselected package libgtk2.0-0:amd64.\n",
            "Preparing to unpack .../10-libgtk2.0-0_2.24.33-2ubuntu2_amd64.deb ...\n",
            "Unpacking libgtk2.0-0:amd64 (2.24.33-2ubuntu2) ...\n",
            "Selecting previously unselected package libgail18:amd64.\n",
            "Preparing to unpack .../11-libgail18_2.24.33-2ubuntu2_amd64.deb ...\n",
            "Unpacking libgail18:amd64 (2.24.33-2ubuntu2) ...\n",
            "Selecting previously unselected package libgail-common:amd64.\n",
            "Preparing to unpack .../12-libgail-common_2.24.33-2ubuntu2_amd64.deb ...\n",
            "Unpacking libgail-common:amd64 (2.24.33-2ubuntu2) ...\n",
            "Selecting previously unselected package libgtk2.0-bin.\n",
            "Preparing to unpack .../13-libgtk2.0-bin_2.24.33-2ubuntu2_amd64.deb ...\n",
            "Unpacking libgtk2.0-bin (2.24.33-2ubuntu2) ...\n",
            "Selecting previously unselected package libice-dev:amd64.\n",
            "Preparing to unpack .../14-libice-dev_2%3a1.0.10-1build2_amd64.deb ...\n",
            "Unpacking libice-dev:amd64 (2:1.0.10-1build2) ...\n",
            "Selecting previously unselected package librsvg2-common:amd64.\n",
            "Preparing to unpack .../15-librsvg2-common_2.52.5+dfsg-3ubuntu0.2_amd64.deb ...\n",
            "Unpacking librsvg2-common:amd64 (2.52.5+dfsg-3ubuntu0.2) ...\n",
            "Selecting previously unselected package libsm-dev:amd64.\n",
            "Preparing to unpack .../16-libsm-dev_2%3a1.2.3-1build2_amd64.deb ...\n",
            "Unpacking libsm-dev:amd64 (2:1.2.3-1build2) ...\n",
            "Selecting previously unselected package libxt-dev:amd64.\n",
            "Preparing to unpack .../17-libxt-dev_1%3a1.2.1-1_amd64.deb ...\n",
            "Unpacking libxt-dev:amd64 (1:1.2.1-1) ...\n",
            "Selecting previously unselected package openjdk-8-jre-headless:amd64.\n",
            "Preparing to unpack .../18-openjdk-8-jre-headless_8u402-ga-2ubuntu1~22.04_amd64.deb ...\n",
            "Unpacking openjdk-8-jre-headless:amd64 (8u402-ga-2ubuntu1~22.04) ...\n",
            "Selecting previously unselected package openjdk-8-jre:amd64.\n",
            "Preparing to unpack .../19-openjdk-8-jre_8u402-ga-2ubuntu1~22.04_amd64.deb ...\n",
            "Unpacking openjdk-8-jre:amd64 (8u402-ga-2ubuntu1~22.04) ...\n",
            "Selecting previously unselected package openjdk-8-jdk-headless:amd64.\n",
            "Preparing to unpack .../20-openjdk-8-jdk-headless_8u402-ga-2ubuntu1~22.04_amd64.deb ...\n",
            "Unpacking openjdk-8-jdk-headless:amd64 (8u402-ga-2ubuntu1~22.04) ...\n",
            "Selecting previously unselected package openjdk-8-jdk:amd64.\n",
            "Preparing to unpack .../21-openjdk-8-jdk_8u402-ga-2ubuntu1~22.04_amd64.deb ...\n",
            "Unpacking openjdk-8-jdk:amd64 (8u402-ga-2ubuntu1~22.04) ...\n",
            "Setting up libice-dev:amd64 (2:1.0.10-1build2) ...\n",
            "Setting up libsm-dev:amd64 (2:1.2.3-1build2) ...\n",
            "Setting up libxtst6:amd64 (2:1.2.3-1build4) ...\n",
            "Setting up libxxf86dga1:amd64 (2:1.1.5-0ubuntu3) ...\n",
            "Setting up libfontenc1:amd64 (1:1.1.4-1build3) ...\n",
            "Setting up libxt-dev:amd64 (1:1.2.1-1) ...\n",
            "Setting up openjdk-8-jre-headless:amd64 (8u402-ga-2ubuntu1~22.04) ...\n",
            "update-alternatives: using /usr/lib/jvm/java-8-openjdk-amd64/jre/bin/orbd to provide /usr/bin/orbd (orbd) in auto mode\n",
            "update-alternatives: using /usr/lib/jvm/java-8-openjdk-amd64/jre/bin/servertool to provide /usr/bin/servertool (servertool) in auto mode\n",
            "update-alternatives: using /usr/lib/jvm/java-8-openjdk-amd64/jre/bin/tnameserv to provide /usr/bin/tnameserv (tnameserv) in auto mode\n",
            "Setting up fonts-dejavu-core (2.37-2build1) ...\n",
            "Setting up librsvg2-common:amd64 (2.52.5+dfsg-3ubuntu0.2) ...\n",
            "Setting up fonts-dejavu-extra (2.37-2build1) ...\n",
            "Setting up libgtk2.0-common (2.24.33-2ubuntu2) ...\n",
            "Setting up libxkbfile1:amd64 (1:1.1.0-1build3) ...\n",
            "Setting up libgtk2.0-0:amd64 (2.24.33-2ubuntu2) ...\n",
            "Setting up openjdk-8-jdk-headless:amd64 (8u402-ga-2ubuntu1~22.04) ...\n",
            "update-alternatives: using /usr/lib/jvm/java-8-openjdk-amd64/bin/clhsdb to provide /usr/bin/clhsdb (clhsdb) in auto mode\n",
            "update-alternatives: using /usr/lib/jvm/java-8-openjdk-amd64/bin/extcheck to provide /usr/bin/extcheck (extcheck) in auto mode\n",
            "update-alternatives: using /usr/lib/jvm/java-8-openjdk-amd64/bin/hsdb to provide /usr/bin/hsdb (hsdb) in auto mode\n",
            "update-alternatives: using /usr/lib/jvm/java-8-openjdk-amd64/bin/idlj to provide /usr/bin/idlj (idlj) in auto mode\n",
            "update-alternatives: using /usr/lib/jvm/java-8-openjdk-amd64/bin/javah to provide /usr/bin/javah (javah) in auto mode\n",
            "update-alternatives: using /usr/lib/jvm/java-8-openjdk-amd64/bin/jhat to provide /usr/bin/jhat (jhat) in auto mode\n",
            "update-alternatives: using /usr/lib/jvm/java-8-openjdk-amd64/bin/jsadebugd to provide /usr/bin/jsadebugd (jsadebugd) in auto mode\n",
            "update-alternatives: using /usr/lib/jvm/java-8-openjdk-amd64/bin/native2ascii to provide /usr/bin/native2ascii (native2ascii) in auto mode\n",
            "update-alternatives: using /usr/lib/jvm/java-8-openjdk-amd64/bin/schemagen to provide /usr/bin/schemagen (schemagen) in auto mode\n",
            "update-alternatives: using /usr/lib/jvm/java-8-openjdk-amd64/bin/wsgen to provide /usr/bin/wsgen (wsgen) in auto mode\n",
            "update-alternatives: using /usr/lib/jvm/java-8-openjdk-amd64/bin/wsimport to provide /usr/bin/wsimport (wsimport) in auto mode\n",
            "update-alternatives: using /usr/lib/jvm/java-8-openjdk-amd64/bin/xjc to provide /usr/bin/xjc (xjc) in auto mode\n",
            "Setting up libgail18:amd64 (2.24.33-2ubuntu2) ...\n",
            "Setting up libgtk2.0-bin (2.24.33-2ubuntu2) ...\n",
            "Setting up x11-utils (7.7+5build2) ...\n",
            "Setting up libatk-wrapper-java (0.38.0-5build1) ...\n",
            "Setting up libgail-common:amd64 (2.24.33-2ubuntu2) ...\n",
            "Setting up libatk-wrapper-java-jni:amd64 (0.38.0-5build1) ...\n",
            "Setting up openjdk-8-jre:amd64 (8u402-ga-2ubuntu1~22.04) ...\n",
            "update-alternatives: using /usr/lib/jvm/java-8-openjdk-amd64/jre/bin/policytool to provide /usr/bin/policytool (policytool) in auto mode\n",
            "Setting up openjdk-8-jdk:amd64 (8u402-ga-2ubuntu1~22.04) ...\n",
            "update-alternatives: using /usr/lib/jvm/java-8-openjdk-amd64/bin/appletviewer to provide /usr/bin/appletviewer (appletviewer) in auto mode\n",
            "update-alternatives: using /usr/lib/jvm/java-8-openjdk-amd64/bin/jconsole to provide /usr/bin/jconsole (jconsole) in auto mode\n",
            "Processing triggers for hicolor-icon-theme (0.17-2) ...\n",
            "Processing triggers for libc-bin (2.35-0ubuntu3.4) ...\n",
            "/sbin/ldconfig.real: /usr/local/lib/libtbbmalloc_proxy.so.2 is not a symbolic link\n",
            "\n",
            "/sbin/ldconfig.real: /usr/local/lib/libtbbbind_2_5.so.3 is not a symbolic link\n",
            "\n",
            "/sbin/ldconfig.real: /usr/local/lib/libtbbmalloc.so.2 is not a symbolic link\n",
            "\n",
            "/sbin/ldconfig.real: /usr/local/lib/libtbbbind.so.3 is not a symbolic link\n",
            "\n",
            "/sbin/ldconfig.real: /usr/local/lib/libtbbbind_2_0.so.3 is not a symbolic link\n",
            "\n",
            "/sbin/ldconfig.real: /usr/local/lib/libtbb.so.12 is not a symbolic link\n",
            "\n",
            "Processing triggers for man-db (2.10.2-1) ...\n",
            "Processing triggers for libgdk-pixbuf-2.0-0:amd64 (2.42.8+dfsg-1ubuntu0.2) ...\n",
            "Processing triggers for fontconfig (2.13.1-4.2ubuntu5) ...\n"
          ]
        }
      ]
    },
    {
      "cell_type": "code",
      "source": [
        "import os\n",
        "#Set the JAVA_HOME env variable\n",
        "os.environ[\"JAVA_HOME\"]=\"/usr/lib/jvm/java-8-openjdk-amd64\""
      ],
      "metadata": {
        "id": "_qIQzLVrjNse"
      },
      "execution_count": 2,
      "outputs": []
    },
    {
      "cell_type": "code",
      "source": [
        "#Install PySpark with latest version\n",
        "!pip install pyspark==3.0.0"
      ],
      "metadata": {
        "colab": {
          "base_uri": "https://localhost:8080/"
        },
        "id": "zZaqyeT2jNdX",
        "outputId": "06a30fb1-a239-42f1-b7f4-e32eda70dbe9"
      },
      "execution_count": 3,
      "outputs": [
        {
          "output_type": "stream",
          "name": "stdout",
          "text": [
            "Collecting pyspark==3.0.0\n",
            "  Downloading pyspark-3.0.0.tar.gz (204.7 MB)\n",
            "\u001b[2K     \u001b[90m━━━━━━━━━━━━━━━━━━━━━━━━━━━━━━━━━━━━━━━━\u001b[0m \u001b[32m204.7/204.7 MB\u001b[0m \u001b[31m6.0 MB/s\u001b[0m eta \u001b[36m0:00:00\u001b[0m\n",
            "\u001b[?25h  Preparing metadata (setup.py) ... \u001b[?25l\u001b[?25hdone\n",
            "Collecting py4j==0.10.9 (from pyspark==3.0.0)\n",
            "  Downloading py4j-0.10.9-py2.py3-none-any.whl (198 kB)\n",
            "\u001b[2K     \u001b[90m━━━━━━━━━━━━━━━━━━━━━━━━━━━━━━━━━━━━━━━━\u001b[0m \u001b[32m198.6/198.6 kB\u001b[0m \u001b[31m18.2 MB/s\u001b[0m eta \u001b[36m0:00:00\u001b[0m\n",
            "\u001b[?25hBuilding wheels for collected packages: pyspark\n",
            "  Building wheel for pyspark (setup.py) ... \u001b[?25l\u001b[?25hdone\n",
            "  Created wheel for pyspark: filename=pyspark-3.0.0-py2.py3-none-any.whl size=205044159 sha256=bfb950a10caca6b52d670c1322d826bfd211bc945ed5b325a44d977acc59238e\n",
            "  Stored in directory: /root/.cache/pip/wheels/b1/bb/8b/ca24d3f756f2ed967225b0871898869db676eb5846df5adc56\n",
            "Successfully built pyspark\n",
            "Installing collected packages: py4j, pyspark\n",
            "  Attempting uninstall: py4j\n",
            "    Found existing installation: py4j 0.10.9.7\n",
            "    Uninstalling py4j-0.10.9.7:\n",
            "      Successfully uninstalled py4j-0.10.9.7\n",
            "Successfully installed py4j-0.10.9 pyspark-3.0.0\n"
          ]
        }
      ]
    },
    {
      "cell_type": "code",
      "source": [
        "#mount your drive\n",
        "from google.colab import drive\n",
        "drive.mount('/content/drive')"
      ],
      "metadata": {
        "colab": {
          "base_uri": "https://localhost:8080/"
        },
        "id": "QN6L88pPjezR",
        "outputId": "9af9c668-84e9-48ac-a51d-9c2543bff68f"
      },
      "execution_count": 4,
      "outputs": [
        {
          "output_type": "stream",
          "name": "stdout",
          "text": [
            "Mounted at /content/drive\n"
          ]
        }
      ]
    },
    {
      "cell_type": "code",
      "source": [
        "from pyspark.sql import SparkSession\n",
        "spark = SparkSession.builder.appName(\"Spark DataFrames\").getOrCreate()"
      ],
      "metadata": {
        "id": "YtH3DBazkHpU"
      },
      "execution_count": 5,
      "outputs": []
    },
    {
      "cell_type": "code",
      "source": [
        "#Read the csv file\n",
        "df=spark.read.csv('/content/drive/My Drive/datasets/student_info.csv')\n",
        "df.show()"
      ],
      "metadata": {
        "colab": {
          "base_uri": "https://localhost:8080/"
        },
        "id": "_AiutGVqjejp",
        "outputId": "dc8107d0-c3d6-48f2-bab2-c7399cf00b09"
      },
      "execution_count": 8,
      "outputs": [
        {
          "output_type": "stream",
          "name": "stdout",
          "text": [
            "+---+------+----------------+------+------+-----+--------------------+\n",
            "|_c0|   _c1|             _c2|   _c3|   _c4|  _c5|                 _c6|\n",
            "+---+------+----------------+------+------+-----+--------------------+\n",
            "|age|gender|            name|course|  roll|marks|               email|\n",
            "| 28|Female| Hubert Oliveras|    DB| 02984|   59|Annika Hoffman_Na...|\n",
            "| 29|Female|Toshiko Hillyard| Cloud| 12899|   62|Margene Moores_Ma...|\n",
            "| 28|  Male|  Celeste Lollis|    PF| 21267|   45|Jeannetta Golden_...|\n",
            "| 29|Female|    Elenore Choy|    DB| 32877|   29|Billi Clore_Mitzi...|\n",
            "| 28|  Male|  Sheryll Towler|   DSA| 41487|   41|Claude Panos_Judi...|\n",
            "| 28|  Male|  Margene Moores|   MVC| 52771|   32|Toshiko Hillyard_...|\n",
            "| 28|  Male|     Neda Briski|   OOP| 61973|   69|Alberta Freund_El...|\n",
            "| 28|Female|    Claude Panos| Cloud| 72409|   85|Sheryll Towler_Al...|\n",
            "| 28|  Male|  Celeste Lollis|   MVC| 81492|   64|Nicole Harwood_Cl...|\n",
            "| 29|  Male|  Cordie Harnois|   OOP| 92882|   51|Judie Chipps_Clem...|\n",
            "| 29|Female|       Kena Wild|   DSA|102285|   35|Dustin Feagins_Ma...|\n",
            "| 29|  Male| Ernest Rossbach|    DB|111449|   53|Maybell Duguay_Ab...|\n",
            "| 28|Female|  Latia Vanhoose|    DB|122502|   27|Latia Vanhoose_Mi...|\n",
            "| 29|Female|  Latia Vanhoose|   MVC|132110|   55|Eda Neathery_Nico...|\n",
            "| 29|  Male|     Neda Briski|    PF|141770|   42|Margene Moores_Mi...|\n",
            "| 29|Female|  Latia Vanhoose|    DB|152159|   27|Claude Panos_Sant...|\n",
            "| 29|  Male|  Loris Crossett|   MVC|161771|   36|Mitzi Seldon_Jenn...|\n",
            "| 29|  Male|  Annika Hoffman|   OOP|171660|   22|Taryn Brownlee_Mi...|\n",
            "| 29|  Male|   Santa Kerfien|    PF|182129|   56|Judie Chipps_Tary...|\n",
            "+---+------+----------------+------+------+-----+--------------------+\n",
            "only showing top 20 rows\n",
            "\n"
          ]
        }
      ]
    },
    {
      "cell_type": "code",
      "source": [],
      "metadata": {
        "id": "G3vb2PMfjeLL"
      },
      "execution_count": null,
      "outputs": []
    },
    {
      "cell_type": "code",
      "execution_count": 9,
      "metadata": {
        "application/vnd.databricks.v1+cell": {
          "cellMetadata": {
            "byteLimit": 2048000,
            "rowLimit": 10000
          },
          "inputWidgets": {},
          "nuid": "26220526-bc83-42cd-a99a-70c6f6b3f00d",
          "showTitle": false,
          "title": ""
        },
        "colab": {
          "base_uri": "https://localhost:8080/"
        },
        "id": "68rAgHbQjItG",
        "outputId": "f418043b-649b-46e5-bc5d-f033565ec534"
      },
      "outputs": [
        {
          "output_type": "stream",
          "name": "stdout",
          "text": [
            "+---+------+----------------+------+------+-----+--------------------+\n",
            "|age|gender|            name|course|  roll|marks|               email|\n",
            "+---+------+----------------+------+------+-----+--------------------+\n",
            "| 28|Female| Hubert Oliveras|    DB| 02984|   59|Annika Hoffman_Na...|\n",
            "| 29|Female|Toshiko Hillyard| Cloud| 12899|   62|Margene Moores_Ma...|\n",
            "| 28|  Male|  Celeste Lollis|    PF| 21267|   45|Jeannetta Golden_...|\n",
            "| 29|Female|    Elenore Choy|    DB| 32877|   29|Billi Clore_Mitzi...|\n",
            "| 28|  Male|  Sheryll Towler|   DSA| 41487|   41|Claude Panos_Judi...|\n",
            "| 28|  Male|  Margene Moores|   MVC| 52771|   32|Toshiko Hillyard_...|\n",
            "| 28|  Male|     Neda Briski|   OOP| 61973|   69|Alberta Freund_El...|\n",
            "| 28|Female|    Claude Panos| Cloud| 72409|   85|Sheryll Towler_Al...|\n",
            "| 28|  Male|  Celeste Lollis|   MVC| 81492|   64|Nicole Harwood_Cl...|\n",
            "| 29|  Male|  Cordie Harnois|   OOP| 92882|   51|Judie Chipps_Clem...|\n",
            "| 29|Female|       Kena Wild|   DSA|102285|   35|Dustin Feagins_Ma...|\n",
            "| 29|  Male| Ernest Rossbach|    DB|111449|   53|Maybell Duguay_Ab...|\n",
            "| 28|Female|  Latia Vanhoose|    DB|122502|   27|Latia Vanhoose_Mi...|\n",
            "| 29|Female|  Latia Vanhoose|   MVC|132110|   55|Eda Neathery_Nico...|\n",
            "| 29|  Male|     Neda Briski|    PF|141770|   42|Margene Moores_Mi...|\n",
            "| 29|Female|  Latia Vanhoose|    DB|152159|   27|Claude Panos_Sant...|\n",
            "| 29|  Male|  Loris Crossett|   MVC|161771|   36|Mitzi Seldon_Jenn...|\n",
            "| 29|  Male|  Annika Hoffman|   OOP|171660|   22|Taryn Brownlee_Mi...|\n",
            "| 29|  Male|   Santa Kerfien|    PF|182129|   56|Judie Chipps_Tary...|\n",
            "| 28|Female|Mickey Cortright|    DB|192537|   62|Ernest Rossbach_M...|\n",
            "+---+------+----------------+------+------+-----+--------------------+\n",
            "only showing top 20 rows\n",
            "\n"
          ]
        }
      ],
      "source": [
        "df=spark.read.option('header',True).csv('/content/drive/My Drive/datasets/student_info.csv')\n",
        "df.show()"
      ]
    },
    {
      "cell_type": "code",
      "execution_count": 10,
      "metadata": {
        "application/vnd.databricks.v1+cell": {
          "cellMetadata": {
            "byteLimit": 2048000,
            "rowLimit": 10000
          },
          "inputWidgets": {},
          "nuid": "b20d87ec-baa6-432a-9b01-9c5f03031958",
          "showTitle": false,
          "title": ""
        },
        "colab": {
          "base_uri": "https://localhost:8080/"
        },
        "id": "J9z3ya4GjItH",
        "outputId": "3b1cf146-19d4-47b8-a4ea-8d0fa44d3854"
      },
      "outputs": [
        {
          "output_type": "stream",
          "name": "stdout",
          "text": [
            "root\n",
            " |-- age: string (nullable = true)\n",
            " |-- gender: string (nullable = true)\n",
            " |-- name: string (nullable = true)\n",
            " |-- course: string (nullable = true)\n",
            " |-- roll: string (nullable = true)\n",
            " |-- marks: string (nullable = true)\n",
            " |-- email: string (nullable = true)\n",
            "\n"
          ]
        }
      ],
      "source": [
        "#displays structure of dataframe\n",
        "df.printSchema()"
      ]
    },
    {
      "cell_type": "code",
      "execution_count": 11,
      "metadata": {
        "application/vnd.databricks.v1+cell": {
          "cellMetadata": {
            "byteLimit": 2048000,
            "rowLimit": 10000
          },
          "inputWidgets": {},
          "nuid": "0c5de8af-76c1-4c2b-841e-83e5d2d3eb9e",
          "showTitle": false,
          "title": ""
        },
        "colab": {
          "base_uri": "https://localhost:8080/"
        },
        "id": "k8ejniEBjItH",
        "outputId": "91ec5d10-b8d7-4c59-ba76-6824ca28dfd2"
      },
      "outputs": [
        {
          "output_type": "stream",
          "name": "stdout",
          "text": [
            "+---+------+----------------+------+------+-----+--------------------+\n",
            "|age|gender|            name|course|  roll|marks|               email|\n",
            "+---+------+----------------+------+------+-----+--------------------+\n",
            "| 28|Female| Hubert Oliveras|    DB|  2984|   59|Annika Hoffman_Na...|\n",
            "| 29|Female|Toshiko Hillyard| Cloud| 12899|   62|Margene Moores_Ma...|\n",
            "| 28|  Male|  Celeste Lollis|    PF| 21267|   45|Jeannetta Golden_...|\n",
            "| 29|Female|    Elenore Choy|    DB| 32877|   29|Billi Clore_Mitzi...|\n",
            "| 28|  Male|  Sheryll Towler|   DSA| 41487|   41|Claude Panos_Judi...|\n",
            "| 28|  Male|  Margene Moores|   MVC| 52771|   32|Toshiko Hillyard_...|\n",
            "| 28|  Male|     Neda Briski|   OOP| 61973|   69|Alberta Freund_El...|\n",
            "| 28|Female|    Claude Panos| Cloud| 72409|   85|Sheryll Towler_Al...|\n",
            "| 28|  Male|  Celeste Lollis|   MVC| 81492|   64|Nicole Harwood_Cl...|\n",
            "| 29|  Male|  Cordie Harnois|   OOP| 92882|   51|Judie Chipps_Clem...|\n",
            "| 29|Female|       Kena Wild|   DSA|102285|   35|Dustin Feagins_Ma...|\n",
            "| 29|  Male| Ernest Rossbach|    DB|111449|   53|Maybell Duguay_Ab...|\n",
            "| 28|Female|  Latia Vanhoose|    DB|122502|   27|Latia Vanhoose_Mi...|\n",
            "| 29|Female|  Latia Vanhoose|   MVC|132110|   55|Eda Neathery_Nico...|\n",
            "| 29|  Male|     Neda Briski|    PF|141770|   42|Margene Moores_Mi...|\n",
            "| 29|Female|  Latia Vanhoose|    DB|152159|   27|Claude Panos_Sant...|\n",
            "| 29|  Male|  Loris Crossett|   MVC|161771|   36|Mitzi Seldon_Jenn...|\n",
            "| 29|  Male|  Annika Hoffman|   OOP|171660|   22|Taryn Brownlee_Mi...|\n",
            "| 29|  Male|   Santa Kerfien|    PF|182129|   56|Judie Chipps_Tary...|\n",
            "| 28|Female|Mickey Cortright|    DB|192537|   62|Ernest Rossbach_M...|\n",
            "+---+------+----------------+------+------+-----+--------------------+\n",
            "only showing top 20 rows\n",
            "\n"
          ]
        }
      ],
      "source": [
        "df=spark.read.option('header',True).option('inferSchema',True).csv('/content/drive/My Drive/datasets/student_info.csv')\n",
        "df.show()"
      ]
    },
    {
      "cell_type": "code",
      "execution_count": 12,
      "metadata": {
        "application/vnd.databricks.v1+cell": {
          "cellMetadata": {
            "byteLimit": 2048000,
            "rowLimit": 10000
          },
          "inputWidgets": {},
          "nuid": "c0118e19-c60f-4bd7-97a0-770a2140d904",
          "showTitle": false,
          "title": ""
        },
        "colab": {
          "base_uri": "https://localhost:8080/"
        },
        "id": "sFmu3kkcjItH",
        "outputId": "6438d7f5-032c-44d2-88df-9703e5c67d7f"
      },
      "outputs": [
        {
          "output_type": "stream",
          "name": "stdout",
          "text": [
            "root\n",
            " |-- age: integer (nullable = true)\n",
            " |-- gender: string (nullable = true)\n",
            " |-- name: string (nullable = true)\n",
            " |-- course: string (nullable = true)\n",
            " |-- roll: integer (nullable = true)\n",
            " |-- marks: integer (nullable = true)\n",
            " |-- email: string (nullable = true)\n",
            "\n"
          ]
        }
      ],
      "source": [
        "#displays structure of dataframe\n",
        "df.printSchema()"
      ]
    },
    {
      "cell_type": "code",
      "execution_count": 13,
      "metadata": {
        "application/vnd.databricks.v1+cell": {
          "cellMetadata": {
            "byteLimit": 2048000,
            "rowLimit": 10000
          },
          "inputWidgets": {},
          "nuid": "fdb862f1-e4fe-414e-a9c8-7e02a7de0ffe",
          "showTitle": false,
          "title": ""
        },
        "colab": {
          "base_uri": "https://localhost:8080/"
        },
        "id": "0Y7AN0nDjItH",
        "outputId": "359f1fe0-7a9a-43f0-a9c6-d1171b2eaa1c"
      },
      "outputs": [
        {
          "output_type": "stream",
          "name": "stdout",
          "text": [
            "root\n",
            " |-- age: integer (nullable = true)\n",
            " |-- gender: string (nullable = true)\n",
            " |-- name: string (nullable = true)\n",
            " |-- course: string (nullable = true)\n",
            " |-- roll: integer (nullable = true)\n",
            " |-- marks: integer (nullable = true)\n",
            " |-- email: string (nullable = true)\n",
            "\n"
          ]
        }
      ],
      "source": [
        "df=spark.read.options(header=True,inferSchema=True).csv('/content/drive/My Drive/datasets/student_info.csv')\n",
        "df.printSchema()"
      ]
    },
    {
      "cell_type": "code",
      "execution_count": 14,
      "metadata": {
        "application/vnd.databricks.v1+cell": {
          "cellMetadata": {
            "byteLimit": 2048000,
            "rowLimit": 10000
          },
          "inputWidgets": {},
          "nuid": "173bcf16-92f1-486b-9bca-5009d843b439",
          "showTitle": false,
          "title": ""
        },
        "id": "HtN801YHjItH"
      },
      "outputs": [],
      "source": [
        "from pyspark.sql.types import StructType, StructField, StringType, IntegerType\n",
        "\n",
        "my_schema = StructType([\n",
        "                    StructField(\"age\", IntegerType(), True),\n",
        "                    StructField(\"gender\", StringType(), True),\n",
        "                    StructField(\"name\", StringType(), True),\n",
        "                    StructField(\"course\", StringType(), True),\n",
        "                    StructField(\"roll\", StringType(), True),\n",
        "                    StructField(\"marks\", IntegerType(), True),\n",
        "                    StructField(\"email\", StringType(), True)\n",
        "])"
      ]
    },
    {
      "cell_type": "code",
      "execution_count": 15,
      "metadata": {
        "application/vnd.databricks.v1+cell": {
          "cellMetadata": {
            "byteLimit": 2048000,
            "rowLimit": 10000
          },
          "inputWidgets": {},
          "nuid": "c4903451-6f30-4a88-b6f3-9bb2ae0dc578",
          "showTitle": false,
          "title": ""
        },
        "colab": {
          "base_uri": "https://localhost:8080/"
        },
        "id": "fcdxT9fHjItI",
        "outputId": "d2db51fd-2167-408b-afb0-c611840b9d09"
      },
      "outputs": [
        {
          "output_type": "stream",
          "name": "stdout",
          "text": [
            "root\n",
            " |-- age: integer (nullable = true)\n",
            " |-- gender: string (nullable = true)\n",
            " |-- name: string (nullable = true)\n",
            " |-- course: string (nullable = true)\n",
            " |-- roll: string (nullable = true)\n",
            " |-- marks: integer (nullable = true)\n",
            " |-- email: string (nullable = true)\n",
            "\n"
          ]
        }
      ],
      "source": [
        "df=spark.read.options(header=True).schema(my_schema).csv('/content/drive/My Drive/datasets/student_info.csv')\n",
        "df.printSchema()"
      ]
    },
    {
      "cell_type": "code",
      "execution_count": 16,
      "metadata": {
        "application/vnd.databricks.v1+cell": {
          "cellMetadata": {
            "byteLimit": 2048000,
            "rowLimit": 10000
          },
          "inputWidgets": {},
          "nuid": "b77bde9c-06ad-408f-acaa-1141811539f7",
          "showTitle": false,
          "title": ""
        },
        "id": "LmVR7ZCujItL"
      },
      "outputs": [],
      "source": [
        "from pyspark.sql.functions import col, lit"
      ]
    },
    {
      "cell_type": "code",
      "source": [
        "#Change Datatype\n",
        "df = df.withColumn(\"roll\", col(\"roll\").cast(\"String\"))\n",
        "\n",
        "df.printSchema()"
      ],
      "metadata": {
        "colab": {
          "base_uri": "https://localhost:8080/"
        },
        "id": "CzxGb8yrllyN",
        "outputId": "e86d51ed-c5c6-4c61-fcf7-f9d1c11a807b"
      },
      "execution_count": 17,
      "outputs": [
        {
          "output_type": "stream",
          "name": "stdout",
          "text": [
            "root\n",
            " |-- age: integer (nullable = true)\n",
            " |-- gender: string (nullable = true)\n",
            " |-- name: string (nullable = true)\n",
            " |-- course: string (nullable = true)\n",
            " |-- roll: string (nullable = true)\n",
            " |-- marks: integer (nullable = true)\n",
            " |-- email: string (nullable = true)\n",
            "\n"
          ]
        }
      ]
    },
    {
      "cell_type": "code",
      "source": [
        "# modify column value\n",
        "df = df.withColumn(\"marks\", col('marks') + 10)\n",
        "df.show()"
      ],
      "metadata": {
        "colab": {
          "base_uri": "https://localhost:8080/"
        },
        "id": "n3glbYPWllux",
        "outputId": "34dc637f-92ae-4503-f265-927f778950fe"
      },
      "execution_count": 18,
      "outputs": [
        {
          "output_type": "stream",
          "name": "stdout",
          "text": [
            "+---+------+----------------+------+------+-----+--------------------+\n",
            "|age|gender|            name|course|  roll|marks|               email|\n",
            "+---+------+----------------+------+------+-----+--------------------+\n",
            "| 28|Female| Hubert Oliveras|    DB| 02984|   69|Annika Hoffman_Na...|\n",
            "| 29|Female|Toshiko Hillyard| Cloud| 12899|   72|Margene Moores_Ma...|\n",
            "| 28|  Male|  Celeste Lollis|    PF| 21267|   55|Jeannetta Golden_...|\n",
            "| 29|Female|    Elenore Choy|    DB| 32877|   39|Billi Clore_Mitzi...|\n",
            "| 28|  Male|  Sheryll Towler|   DSA| 41487|   51|Claude Panos_Judi...|\n",
            "| 28|  Male|  Margene Moores|   MVC| 52771|   42|Toshiko Hillyard_...|\n",
            "| 28|  Male|     Neda Briski|   OOP| 61973|   79|Alberta Freund_El...|\n",
            "| 28|Female|    Claude Panos| Cloud| 72409|   95|Sheryll Towler_Al...|\n",
            "| 28|  Male|  Celeste Lollis|   MVC| 81492|   74|Nicole Harwood_Cl...|\n",
            "| 29|  Male|  Cordie Harnois|   OOP| 92882|   61|Judie Chipps_Clem...|\n",
            "| 29|Female|       Kena Wild|   DSA|102285|   45|Dustin Feagins_Ma...|\n",
            "| 29|  Male| Ernest Rossbach|    DB|111449|   63|Maybell Duguay_Ab...|\n",
            "| 28|Female|  Latia Vanhoose|    DB|122502|   37|Latia Vanhoose_Mi...|\n",
            "| 29|Female|  Latia Vanhoose|   MVC|132110|   65|Eda Neathery_Nico...|\n",
            "| 29|  Male|     Neda Briski|    PF|141770|   52|Margene Moores_Mi...|\n",
            "| 29|Female|  Latia Vanhoose|    DB|152159|   37|Claude Panos_Sant...|\n",
            "| 29|  Male|  Loris Crossett|   MVC|161771|   46|Mitzi Seldon_Jenn...|\n",
            "| 29|  Male|  Annika Hoffman|   OOP|171660|   32|Taryn Brownlee_Mi...|\n",
            "| 29|  Male|   Santa Kerfien|    PF|182129|   66|Judie Chipps_Tary...|\n",
            "| 28|Female|Mickey Cortright|    DB|192537|   72|Ernest Rossbach_M...|\n",
            "+---+------+----------------+------+------+-----+--------------------+\n",
            "only showing top 20 rows\n",
            "\n"
          ]
        }
      ]
    },
    {
      "cell_type": "code",
      "source": [
        "df = df.withColumn(\"percentage\", col('marks') / 100)\n",
        "df.show()\n"
      ],
      "metadata": {
        "colab": {
          "base_uri": "https://localhost:8080/"
        },
        "id": "HibpWKUNllrb",
        "outputId": "145a0ed5-3a99-4071-cbf6-8250c8087c10"
      },
      "execution_count": 19,
      "outputs": [
        {
          "output_type": "stream",
          "name": "stdout",
          "text": [
            "+---+------+----------------+------+------+-----+--------------------+----------+\n",
            "|age|gender|            name|course|  roll|marks|               email|percentage|\n",
            "+---+------+----------------+------+------+-----+--------------------+----------+\n",
            "| 28|Female| Hubert Oliveras|    DB| 02984|   69|Annika Hoffman_Na...|      0.69|\n",
            "| 29|Female|Toshiko Hillyard| Cloud| 12899|   72|Margene Moores_Ma...|      0.72|\n",
            "| 28|  Male|  Celeste Lollis|    PF| 21267|   55|Jeannetta Golden_...|      0.55|\n",
            "| 29|Female|    Elenore Choy|    DB| 32877|   39|Billi Clore_Mitzi...|      0.39|\n",
            "| 28|  Male|  Sheryll Towler|   DSA| 41487|   51|Claude Panos_Judi...|      0.51|\n",
            "| 28|  Male|  Margene Moores|   MVC| 52771|   42|Toshiko Hillyard_...|      0.42|\n",
            "| 28|  Male|     Neda Briski|   OOP| 61973|   79|Alberta Freund_El...|      0.79|\n",
            "| 28|Female|    Claude Panos| Cloud| 72409|   95|Sheryll Towler_Al...|      0.95|\n",
            "| 28|  Male|  Celeste Lollis|   MVC| 81492|   74|Nicole Harwood_Cl...|      0.74|\n",
            "| 29|  Male|  Cordie Harnois|   OOP| 92882|   61|Judie Chipps_Clem...|      0.61|\n",
            "| 29|Female|       Kena Wild|   DSA|102285|   45|Dustin Feagins_Ma...|      0.45|\n",
            "| 29|  Male| Ernest Rossbach|    DB|111449|   63|Maybell Duguay_Ab...|      0.63|\n",
            "| 28|Female|  Latia Vanhoose|    DB|122502|   37|Latia Vanhoose_Mi...|      0.37|\n",
            "| 29|Female|  Latia Vanhoose|   MVC|132110|   65|Eda Neathery_Nico...|      0.65|\n",
            "| 29|  Male|     Neda Briski|    PF|141770|   52|Margene Moores_Mi...|      0.52|\n",
            "| 29|Female|  Latia Vanhoose|    DB|152159|   37|Claude Panos_Sant...|      0.37|\n",
            "| 29|  Male|  Loris Crossett|   MVC|161771|   46|Mitzi Seldon_Jenn...|      0.46|\n",
            "| 29|  Male|  Annika Hoffman|   OOP|171660|   32|Taryn Brownlee_Mi...|      0.32|\n",
            "| 29|  Male|   Santa Kerfien|    PF|182129|   66|Judie Chipps_Tary...|      0.66|\n",
            "| 28|Female|Mickey Cortright|    DB|192537|   72|Ernest Rossbach_M...|      0.72|\n",
            "+---+------+----------------+------+------+-----+--------------------+----------+\n",
            "only showing top 20 rows\n",
            "\n"
          ]
        }
      ]
    },
    {
      "cell_type": "code",
      "execution_count": 20,
      "metadata": {
        "application/vnd.databricks.v1+cell": {
          "cellMetadata": {
            "byteLimit": 2048000,
            "rowLimit": 10000
          },
          "inputWidgets": {},
          "nuid": "785ce239-834a-4a64-b10b-1840a171517c",
          "showTitle": false,
          "title": ""
        },
        "colab": {
          "base_uri": "https://localhost:8080/"
        },
        "id": "vEAVbepzjItM",
        "outputId": "5749d756-318f-42f5-9fbb-6545e1a7770a"
      },
      "outputs": [
        {
          "output_type": "stream",
          "name": "stdout",
          "text": [
            "+---+------+----------------+------+------+-----+--------------------+----------+------------+\n",
            "|age|gender|            name|course|  roll|marks|               email|percentage|country name|\n",
            "+---+------+----------------+------+------+-----+--------------------+----------+------------+\n",
            "| 28|Female| Hubert Oliveras|    DB| 02984|   69|Annika Hoffman_Na...|      0.69|     Nigeria|\n",
            "| 29|Female|Toshiko Hillyard| Cloud| 12899|   72|Margene Moores_Ma...|      0.72|     Nigeria|\n",
            "| 28|  Male|  Celeste Lollis|    PF| 21267|   55|Jeannetta Golden_...|      0.55|     Nigeria|\n",
            "| 29|Female|    Elenore Choy|    DB| 32877|   39|Billi Clore_Mitzi...|      0.39|     Nigeria|\n",
            "| 28|  Male|  Sheryll Towler|   DSA| 41487|   51|Claude Panos_Judi...|      0.51|     Nigeria|\n",
            "| 28|  Male|  Margene Moores|   MVC| 52771|   42|Toshiko Hillyard_...|      0.42|     Nigeria|\n",
            "| 28|  Male|     Neda Briski|   OOP| 61973|   79|Alberta Freund_El...|      0.79|     Nigeria|\n",
            "| 28|Female|    Claude Panos| Cloud| 72409|   95|Sheryll Towler_Al...|      0.95|     Nigeria|\n",
            "| 28|  Male|  Celeste Lollis|   MVC| 81492|   74|Nicole Harwood_Cl...|      0.74|     Nigeria|\n",
            "| 29|  Male|  Cordie Harnois|   OOP| 92882|   61|Judie Chipps_Clem...|      0.61|     Nigeria|\n",
            "| 29|Female|       Kena Wild|   DSA|102285|   45|Dustin Feagins_Ma...|      0.45|     Nigeria|\n",
            "| 29|  Male| Ernest Rossbach|    DB|111449|   63|Maybell Duguay_Ab...|      0.63|     Nigeria|\n",
            "| 28|Female|  Latia Vanhoose|    DB|122502|   37|Latia Vanhoose_Mi...|      0.37|     Nigeria|\n",
            "| 29|Female|  Latia Vanhoose|   MVC|132110|   65|Eda Neathery_Nico...|      0.65|     Nigeria|\n",
            "| 29|  Male|     Neda Briski|    PF|141770|   52|Margene Moores_Mi...|      0.52|     Nigeria|\n",
            "| 29|Female|  Latia Vanhoose|    DB|152159|   37|Claude Panos_Sant...|      0.37|     Nigeria|\n",
            "| 29|  Male|  Loris Crossett|   MVC|161771|   46|Mitzi Seldon_Jenn...|      0.46|     Nigeria|\n",
            "| 29|  Male|  Annika Hoffman|   OOP|171660|   32|Taryn Brownlee_Mi...|      0.32|     Nigeria|\n",
            "| 29|  Male|   Santa Kerfien|    PF|182129|   66|Judie Chipps_Tary...|      0.66|     Nigeria|\n",
            "| 28|Female|Mickey Cortright|    DB|192537|   72|Ernest Rossbach_M...|      0.72|     Nigeria|\n",
            "+---+------+----------------+------+------+-----+--------------------+----------+------------+\n",
            "only showing top 20 rows\n",
            "\n"
          ]
        }
      ],
      "source": [
        "df = df.withColumn(\"country name\", lit(\"Nigeria\"))\n",
        "df.show()"
      ]
    },
    {
      "cell_type": "code",
      "execution_count": 21,
      "metadata": {
        "application/vnd.databricks.v1+cell": {
          "cellMetadata": {
            "byteLimit": 2048000,
            "rowLimit": 10000
          },
          "inputWidgets": {},
          "nuid": "62a6a138-d0d9-4253-ae11-6bb5165cfd16",
          "showTitle": false,
          "title": ""
        },
        "colab": {
          "base_uri": "https://localhost:8080/"
        },
        "id": "FPnGjuSYjItM",
        "outputId": "2ed5f496-3915-47f7-c2a8-426d6ce49a08"
      },
      "outputs": [
        {
          "output_type": "stream",
          "name": "stdout",
          "text": [
            "+---+------+----------------+------+-----------+-----+--------------------+----------+------------+\n",
            "|age|   sex|            name|course|roll number|marks|               email|percentage|country name|\n",
            "+---+------+----------------+------+-----------+-----+--------------------+----------+------------+\n",
            "| 28|Female| Hubert Oliveras|    DB|      02984|   69|Annika Hoffman_Na...|      0.69|     Nigeria|\n",
            "| 29|Female|Toshiko Hillyard| Cloud|      12899|   72|Margene Moores_Ma...|      0.72|     Nigeria|\n",
            "| 28|  Male|  Celeste Lollis|    PF|      21267|   55|Jeannetta Golden_...|      0.55|     Nigeria|\n",
            "| 29|Female|    Elenore Choy|    DB|      32877|   39|Billi Clore_Mitzi...|      0.39|     Nigeria|\n",
            "| 28|  Male|  Sheryll Towler|   DSA|      41487|   51|Claude Panos_Judi...|      0.51|     Nigeria|\n",
            "| 28|  Male|  Margene Moores|   MVC|      52771|   42|Toshiko Hillyard_...|      0.42|     Nigeria|\n",
            "| 28|  Male|     Neda Briski|   OOP|      61973|   79|Alberta Freund_El...|      0.79|     Nigeria|\n",
            "| 28|Female|    Claude Panos| Cloud|      72409|   95|Sheryll Towler_Al...|      0.95|     Nigeria|\n",
            "| 28|  Male|  Celeste Lollis|   MVC|      81492|   74|Nicole Harwood_Cl...|      0.74|     Nigeria|\n",
            "| 29|  Male|  Cordie Harnois|   OOP|      92882|   61|Judie Chipps_Clem...|      0.61|     Nigeria|\n",
            "| 29|Female|       Kena Wild|   DSA|     102285|   45|Dustin Feagins_Ma...|      0.45|     Nigeria|\n",
            "| 29|  Male| Ernest Rossbach|    DB|     111449|   63|Maybell Duguay_Ab...|      0.63|     Nigeria|\n",
            "| 28|Female|  Latia Vanhoose|    DB|     122502|   37|Latia Vanhoose_Mi...|      0.37|     Nigeria|\n",
            "| 29|Female|  Latia Vanhoose|   MVC|     132110|   65|Eda Neathery_Nico...|      0.65|     Nigeria|\n",
            "| 29|  Male|     Neda Briski|    PF|     141770|   52|Margene Moores_Mi...|      0.52|     Nigeria|\n",
            "| 29|Female|  Latia Vanhoose|    DB|     152159|   37|Claude Panos_Sant...|      0.37|     Nigeria|\n",
            "| 29|  Male|  Loris Crossett|   MVC|     161771|   46|Mitzi Seldon_Jenn...|      0.46|     Nigeria|\n",
            "| 29|  Male|  Annika Hoffman|   OOP|     171660|   32|Taryn Brownlee_Mi...|      0.32|     Nigeria|\n",
            "| 29|  Male|   Santa Kerfien|    PF|     182129|   66|Judie Chipps_Tary...|      0.66|     Nigeria|\n",
            "| 28|Female|Mickey Cortright|    DB|     192537|   72|Ernest Rossbach_M...|      0.72|     Nigeria|\n",
            "+---+------+----------------+------+-----------+-----+--------------------+----------+------------+\n",
            "only showing top 20 rows\n",
            "\n"
          ]
        }
      ],
      "source": [
        "#renaming columns\n",
        "df = df.withColumnRenamed(\"gender\",\"sex\").withColumnRenamed(\"roll\", \"roll number\")\n",
        "df.show()\n"
      ]
    },
    {
      "cell_type": "code",
      "execution_count": 22,
      "metadata": {
        "application/vnd.databricks.v1+cell": {
          "cellMetadata": {},
          "inputWidgets": {},
          "nuid": "e85f617b-e18e-4917-8ce6-46cc7a9b6391",
          "showTitle": false,
          "title": ""
        },
        "colab": {
          "base_uri": "https://localhost:8080/"
        },
        "id": "wxwnhCfHjItM",
        "outputId": "8fe6fc6c-00c6-49b6-d1cc-d1d04ab1d7f3"
      },
      "outputs": [
        {
          "output_type": "stream",
          "name": "stdout",
          "text": [
            "+----------------+\n",
            "|       Full Name|\n",
            "+----------------+\n",
            "| Hubert Oliveras|\n",
            "|Toshiko Hillyard|\n",
            "|  Celeste Lollis|\n",
            "|    Elenore Choy|\n",
            "|  Sheryll Towler|\n",
            "|  Margene Moores|\n",
            "|     Neda Briski|\n",
            "|    Claude Panos|\n",
            "|  Celeste Lollis|\n",
            "|  Cordie Harnois|\n",
            "|       Kena Wild|\n",
            "| Ernest Rossbach|\n",
            "|  Latia Vanhoose|\n",
            "|  Latia Vanhoose|\n",
            "|     Neda Briski|\n",
            "|  Latia Vanhoose|\n",
            "|  Loris Crossett|\n",
            "|  Annika Hoffman|\n",
            "|   Santa Kerfien|\n",
            "|Mickey Cortright|\n",
            "+----------------+\n",
            "only showing top 20 rows\n",
            "\n",
            "+---+------+----------------+------+-----------+-----+--------------------+----------+------------+\n",
            "|age|   sex|            name|course|roll number|marks|               email|percentage|country name|\n",
            "+---+------+----------------+------+-----------+-----+--------------------+----------+------------+\n",
            "| 28|Female| Hubert Oliveras|    DB|      02984|   69|Annika Hoffman_Na...|      0.69|     Nigeria|\n",
            "| 29|Female|Toshiko Hillyard| Cloud|      12899|   72|Margene Moores_Ma...|      0.72|     Nigeria|\n",
            "| 28|  Male|  Celeste Lollis|    PF|      21267|   55|Jeannetta Golden_...|      0.55|     Nigeria|\n",
            "| 29|Female|    Elenore Choy|    DB|      32877|   39|Billi Clore_Mitzi...|      0.39|     Nigeria|\n",
            "| 28|  Male|  Sheryll Towler|   DSA|      41487|   51|Claude Panos_Judi...|      0.51|     Nigeria|\n",
            "| 28|  Male|  Margene Moores|   MVC|      52771|   42|Toshiko Hillyard_...|      0.42|     Nigeria|\n",
            "| 28|  Male|     Neda Briski|   OOP|      61973|   79|Alberta Freund_El...|      0.79|     Nigeria|\n",
            "| 28|Female|    Claude Panos| Cloud|      72409|   95|Sheryll Towler_Al...|      0.95|     Nigeria|\n",
            "| 28|  Male|  Celeste Lollis|   MVC|      81492|   74|Nicole Harwood_Cl...|      0.74|     Nigeria|\n",
            "| 29|  Male|  Cordie Harnois|   OOP|      92882|   61|Judie Chipps_Clem...|      0.61|     Nigeria|\n",
            "| 29|Female|       Kena Wild|   DSA|     102285|   45|Dustin Feagins_Ma...|      0.45|     Nigeria|\n",
            "| 29|  Male| Ernest Rossbach|    DB|     111449|   63|Maybell Duguay_Ab...|      0.63|     Nigeria|\n",
            "| 28|Female|  Latia Vanhoose|    DB|     122502|   37|Latia Vanhoose_Mi...|      0.37|     Nigeria|\n",
            "| 29|Female|  Latia Vanhoose|   MVC|     132110|   65|Eda Neathery_Nico...|      0.65|     Nigeria|\n",
            "| 29|  Male|     Neda Briski|    PF|     141770|   52|Margene Moores_Mi...|      0.52|     Nigeria|\n",
            "| 29|Female|  Latia Vanhoose|    DB|     152159|   37|Claude Panos_Sant...|      0.37|     Nigeria|\n",
            "| 29|  Male|  Loris Crossett|   MVC|     161771|   46|Mitzi Seldon_Jenn...|      0.46|     Nigeria|\n",
            "| 29|  Male|  Annika Hoffman|   OOP|     171660|   32|Taryn Brownlee_Mi...|      0.32|     Nigeria|\n",
            "| 29|  Male|   Santa Kerfien|    PF|     182129|   66|Judie Chipps_Tary...|      0.66|     Nigeria|\n",
            "| 28|Female|Mickey Cortright|    DB|     192537|   72|Ernest Rossbach_M...|      0.72|     Nigeria|\n",
            "+---+------+----------------+------+-----------+-----+--------------------+----------+------------+\n",
            "only showing top 20 rows\n",
            "\n"
          ]
        }
      ],
      "source": [
        "#column alias\n",
        "df.select(col(\"name\").alias(\"Full Name\")).show()\n",
        "\n",
        "df.show()\n"
      ]
    },
    {
      "cell_type": "code",
      "source": [
        "#filters\n",
        "df.filter(df.course == \"DB\").show()\n"
      ],
      "metadata": {
        "colab": {
          "base_uri": "https://localhost:8080/"
        },
        "id": "rbrPJQWDm9Jc",
        "outputId": "3411c063-6f07-45a8-ca9a-e696d3e445cd"
      },
      "execution_count": 23,
      "outputs": [
        {
          "output_type": "stream",
          "name": "stdout",
          "text": [
            "+---+------+-----------------+------+-----------+-----+--------------------+----------+------------+\n",
            "|age|   sex|             name|course|roll number|marks|               email|percentage|country name|\n",
            "+---+------+-----------------+------+-----------+-----+--------------------+----------+------------+\n",
            "| 28|Female|  Hubert Oliveras|    DB|      02984|   69|Annika Hoffman_Na...|      0.69|     Nigeria|\n",
            "| 29|Female|     Elenore Choy|    DB|      32877|   39|Billi Clore_Mitzi...|      0.39|     Nigeria|\n",
            "| 29|  Male|  Ernest Rossbach|    DB|     111449|   63|Maybell Duguay_Ab...|      0.63|     Nigeria|\n",
            "| 28|Female|   Latia Vanhoose|    DB|     122502|   37|Latia Vanhoose_Mi...|      0.37|     Nigeria|\n",
            "| 29|Female|   Latia Vanhoose|    DB|     152159|   37|Claude Panos_Sant...|      0.37|     Nigeria|\n",
            "| 28|Female| Mickey Cortright|    DB|     192537|   72|Ernest Rossbach_M...|      0.72|     Nigeria|\n",
            "| 28|Female|      Anna Santos|    DB|     311589|   89|Celeste Lollis_Mi...|      0.89|     Nigeria|\n",
            "| 28|  Male|    Kizzy Brenner|    DB|     381712|   46|Paris Hutton_Kena...|      0.46|     Nigeria|\n",
            "| 28|  Male| Toshiko Hillyard|    DB|     392218|   57|Leontine Phillips...|      0.57|     Nigeria|\n",
            "| 29|  Male|     Paris Hutton|    DB|     481229|   67|Clementina Menke_...|      0.67|     Nigeria|\n",
            "| 28|Female| Mickey Cortright|    DB|     551389|   53|Tijuana Kropf_Jen...|      0.53|     Nigeria|\n",
            "| 28|Female|Leontine Phillips|    DB|     602404|   58|Neda Briski_Cheri...|      0.58|     Nigeria|\n",
            "| 28|Female|  Hubert Oliveras|    DB|     771081|   89|Kizzy Brenner_Dus...|      0.89|     Nigeria|\n",
            "| 29|Female|     Elenore Choy|    DB|     811824|   65|Maybell Duguay_Me...|      0.65|     Nigeria|\n",
            "| 29|  Male| Clementina Menke|    DB|     882200|   86|Michelle Ruggiero...|      0.86|     Nigeria|\n",
            "| 29|Female|  Sebrina Maresca|    DB|     922210|   64|Toshiko Hillyard_...|      0.64|     Nigeria|\n",
            "| 29|  Male|     Naoma Fritts|    DB|     931295|   89|Hubert Oliveras_S...|      0.89|     Nigeria|\n",
            "| 28|  Male|   Annika Hoffman|    DB|    1031544|   54|Dustin Feagins_So...|      0.54|     Nigeria|\n",
            "| 28|  Male|   Nicole Harwood|    DB|    1211495|   38|Melani Engberg_Jc...|      0.38|     Nigeria|\n",
            "| 29|Female|     Claude Panos|    DB|    1222887|   85|Hubert Oliveras_S...|      0.85|     Nigeria|\n",
            "+---+------+-----------------+------+-----------+-----+--------------------+----------+------------+\n",
            "only showing top 20 rows\n",
            "\n"
          ]
        }
      ]
    },
    {
      "cell_type": "code",
      "source": [
        "df.filter(col(\"course\") == \"DB\").show()"
      ],
      "metadata": {
        "colab": {
          "base_uri": "https://localhost:8080/"
        },
        "id": "LbNWimRanAFy",
        "outputId": "993a5387-c9a2-4795-f7d3-aac0fc8919bf"
      },
      "execution_count": 24,
      "outputs": [
        {
          "output_type": "stream",
          "name": "stdout",
          "text": [
            "+---+------+-----------------+------+-----------+-----+--------------------+----------+------------+\n",
            "|age|   sex|             name|course|roll number|marks|               email|percentage|country name|\n",
            "+---+------+-----------------+------+-----------+-----+--------------------+----------+------------+\n",
            "| 28|Female|  Hubert Oliveras|    DB|      02984|   69|Annika Hoffman_Na...|      0.69|     Nigeria|\n",
            "| 29|Female|     Elenore Choy|    DB|      32877|   39|Billi Clore_Mitzi...|      0.39|     Nigeria|\n",
            "| 29|  Male|  Ernest Rossbach|    DB|     111449|   63|Maybell Duguay_Ab...|      0.63|     Nigeria|\n",
            "| 28|Female|   Latia Vanhoose|    DB|     122502|   37|Latia Vanhoose_Mi...|      0.37|     Nigeria|\n",
            "| 29|Female|   Latia Vanhoose|    DB|     152159|   37|Claude Panos_Sant...|      0.37|     Nigeria|\n",
            "| 28|Female| Mickey Cortright|    DB|     192537|   72|Ernest Rossbach_M...|      0.72|     Nigeria|\n",
            "| 28|Female|      Anna Santos|    DB|     311589|   89|Celeste Lollis_Mi...|      0.89|     Nigeria|\n",
            "| 28|  Male|    Kizzy Brenner|    DB|     381712|   46|Paris Hutton_Kena...|      0.46|     Nigeria|\n",
            "| 28|  Male| Toshiko Hillyard|    DB|     392218|   57|Leontine Phillips...|      0.57|     Nigeria|\n",
            "| 29|  Male|     Paris Hutton|    DB|     481229|   67|Clementina Menke_...|      0.67|     Nigeria|\n",
            "| 28|Female| Mickey Cortright|    DB|     551389|   53|Tijuana Kropf_Jen...|      0.53|     Nigeria|\n",
            "| 28|Female|Leontine Phillips|    DB|     602404|   58|Neda Briski_Cheri...|      0.58|     Nigeria|\n",
            "| 28|Female|  Hubert Oliveras|    DB|     771081|   89|Kizzy Brenner_Dus...|      0.89|     Nigeria|\n",
            "| 29|Female|     Elenore Choy|    DB|     811824|   65|Maybell Duguay_Me...|      0.65|     Nigeria|\n",
            "| 29|  Male| Clementina Menke|    DB|     882200|   86|Michelle Ruggiero...|      0.86|     Nigeria|\n",
            "| 29|Female|  Sebrina Maresca|    DB|     922210|   64|Toshiko Hillyard_...|      0.64|     Nigeria|\n",
            "| 29|  Male|     Naoma Fritts|    DB|     931295|   89|Hubert Oliveras_S...|      0.89|     Nigeria|\n",
            "| 28|  Male|   Annika Hoffman|    DB|    1031544|   54|Dustin Feagins_So...|      0.54|     Nigeria|\n",
            "| 28|  Male|   Nicole Harwood|    DB|    1211495|   38|Melani Engberg_Jc...|      0.38|     Nigeria|\n",
            "| 29|Female|     Claude Panos|    DB|    1222887|   85|Hubert Oliveras_S...|      0.85|     Nigeria|\n",
            "+---+------+-----------------+------+-----------+-----+--------------------+----------+------------+\n",
            "only showing top 20 rows\n",
            "\n"
          ]
        }
      ]
    },
    {
      "cell_type": "code",
      "source": [
        "df.filter( (df.course == \"DB\") & (df.marks > 50) ).show()"
      ],
      "metadata": {
        "colab": {
          "base_uri": "https://localhost:8080/"
        },
        "id": "VNROLcn3nC5S",
        "outputId": "2e30f787-4e93-4d56-8a4f-9d353d49ebfb"
      },
      "execution_count": 25,
      "outputs": [
        {
          "output_type": "stream",
          "name": "stdout",
          "text": [
            "+---+------+-----------------+------+-----------+-----+--------------------+----------+------------+\n",
            "|age|   sex|             name|course|roll number|marks|               email|percentage|country name|\n",
            "+---+------+-----------------+------+-----------+-----+--------------------+----------+------------+\n",
            "| 28|Female|  Hubert Oliveras|    DB|      02984|   69|Annika Hoffman_Na...|      0.69|     Nigeria|\n",
            "| 29|  Male|  Ernest Rossbach|    DB|     111449|   63|Maybell Duguay_Ab...|      0.63|     Nigeria|\n",
            "| 28|Female| Mickey Cortright|    DB|     192537|   72|Ernest Rossbach_M...|      0.72|     Nigeria|\n",
            "| 28|Female|      Anna Santos|    DB|     311589|   89|Celeste Lollis_Mi...|      0.89|     Nigeria|\n",
            "| 28|  Male| Toshiko Hillyard|    DB|     392218|   57|Leontine Phillips...|      0.57|     Nigeria|\n",
            "| 29|  Male|     Paris Hutton|    DB|     481229|   67|Clementina Menke_...|      0.67|     Nigeria|\n",
            "| 28|Female| Mickey Cortright|    DB|     551389|   53|Tijuana Kropf_Jen...|      0.53|     Nigeria|\n",
            "| 28|Female|Leontine Phillips|    DB|     602404|   58|Neda Briski_Cheri...|      0.58|     Nigeria|\n",
            "| 28|Female|  Hubert Oliveras|    DB|     771081|   89|Kizzy Brenner_Dus...|      0.89|     Nigeria|\n",
            "| 29|Female|     Elenore Choy|    DB|     811824|   65|Maybell Duguay_Me...|      0.65|     Nigeria|\n",
            "| 29|  Male| Clementina Menke|    DB|     882200|   86|Michelle Ruggiero...|      0.86|     Nigeria|\n",
            "| 29|Female|  Sebrina Maresca|    DB|     922210|   64|Toshiko Hillyard_...|      0.64|     Nigeria|\n",
            "| 29|  Male|     Naoma Fritts|    DB|     931295|   89|Hubert Oliveras_S...|      0.89|     Nigeria|\n",
            "| 28|  Male|   Annika Hoffman|    DB|    1031544|   54|Dustin Feagins_So...|      0.54|     Nigeria|\n",
            "| 29|Female|     Claude Panos|    DB|    1222887|   85|Hubert Oliveras_S...|      0.85|     Nigeria|\n",
            "| 29|Female|Leontine Phillips|    DB|    1432252|   77|Billi Clore_Shery...|      0.77|     Nigeria|\n",
            "| 28|Female|  Gonzalo Ferebee|    DB|    1451513|   79|Claude Panos_Tame...|      0.79|     Nigeria|\n",
            "| 28|  Male|  Marylee Capasso|    DB|    1611411|  106|Annika Hoffman_Lo...|      1.06|     Nigeria|\n",
            "| 29|Female|Michelle Ruggiero|    DB|    1642509|   55|Hubert Oliveras_M...|      0.55|     Nigeria|\n",
            "| 29|  Male|   Alberta Freund|    DB|    1671638|  108|Clementina Menke_...|      1.08|     Nigeria|\n",
            "+---+------+-----------------+------+-----------+-----+--------------------+----------+------------+\n",
            "only showing top 20 rows\n",
            "\n"
          ]
        }
      ]
    },
    {
      "cell_type": "code",
      "source": [
        "courses = [\"DB\", \"Cloud\", \"OOP\", \"DSA\"]\n",
        "df.filter(df.course.isin(courses)).show()"
      ],
      "metadata": {
        "colab": {
          "base_uri": "https://localhost:8080/"
        },
        "id": "fLF9LmcOnFWi",
        "outputId": "bfb1f863-1124-4eb1-915d-9721092e2235"
      },
      "execution_count": 26,
      "outputs": [
        {
          "output_type": "stream",
          "name": "stdout",
          "text": [
            "+---+------+----------------+------+-----------+-----+--------------------+----------+------------+\n",
            "|age|   sex|            name|course|roll number|marks|               email|percentage|country name|\n",
            "+---+------+----------------+------+-----------+-----+--------------------+----------+------------+\n",
            "| 28|Female| Hubert Oliveras|    DB|      02984|   69|Annika Hoffman_Na...|      0.69|     Nigeria|\n",
            "| 29|Female|Toshiko Hillyard| Cloud|      12899|   72|Margene Moores_Ma...|      0.72|     Nigeria|\n",
            "| 29|Female|    Elenore Choy|    DB|      32877|   39|Billi Clore_Mitzi...|      0.39|     Nigeria|\n",
            "| 28|  Male|  Sheryll Towler|   DSA|      41487|   51|Claude Panos_Judi...|      0.51|     Nigeria|\n",
            "| 28|  Male|     Neda Briski|   OOP|      61973|   79|Alberta Freund_El...|      0.79|     Nigeria|\n",
            "| 28|Female|    Claude Panos| Cloud|      72409|   95|Sheryll Towler_Al...|      0.95|     Nigeria|\n",
            "| 29|  Male|  Cordie Harnois|   OOP|      92882|   61|Judie Chipps_Clem...|      0.61|     Nigeria|\n",
            "| 29|Female|       Kena Wild|   DSA|     102285|   45|Dustin Feagins_Ma...|      0.45|     Nigeria|\n",
            "| 29|  Male| Ernest Rossbach|    DB|     111449|   63|Maybell Duguay_Ab...|      0.63|     Nigeria|\n",
            "| 28|Female|  Latia Vanhoose|    DB|     122502|   37|Latia Vanhoose_Mi...|      0.37|     Nigeria|\n",
            "| 29|Female|  Latia Vanhoose|    DB|     152159|   37|Claude Panos_Sant...|      0.37|     Nigeria|\n",
            "| 29|  Male|  Annika Hoffman|   OOP|     171660|   32|Taryn Brownlee_Mi...|      0.32|     Nigeria|\n",
            "| 28|Female|Mickey Cortright|    DB|     192537|   72|Ernest Rossbach_M...|      0.72|     Nigeria|\n",
            "| 28|Female|       Kena Wild| Cloud|     221750|   70|Mitzi Seldon_Jenn...|       0.7|     Nigeria|\n",
            "| 28|Female|    Jc Andrepont|   DSA|     232060|   68|Billi Clore_Abram...|      0.68|     Nigeria|\n",
            "| 29|Female|     Anna Santos| Cloud|     242254|   78|Jc Andrepont_Hube...|      0.78|     Nigeria|\n",
            "| 28|Female|  Alberta Freund|   OOP|     251805|   93|Annika Hoffman_Sh...|      0.93|     Nigeria|\n",
            "| 28|Female|  Maybell Duguay| Cloud|     261439|   30|Nicole Harwood_Ju...|       0.3|     Nigeria|\n",
            "| 29|Female|    Paris Hutton|   DSA|     271472|  109|Sheryll Towler_Al...|      1.09|     Nigeria|\n",
            "| 29|Female|    Cheri Kenney| Cloud|     281408|   53|Annika Hoffman_Me...|      0.53|     Nigeria|\n",
            "+---+------+----------------+------+-----------+-----+--------------------+----------+------------+\n",
            "only showing top 20 rows\n",
            "\n"
          ]
        }
      ]
    },
    {
      "cell_type": "code",
      "source": [
        "df.filter(df.course.startswith(\"DS\")).show()"
      ],
      "metadata": {
        "colab": {
          "base_uri": "https://localhost:8080/"
        },
        "id": "bzjuiSNSnJv5",
        "outputId": "8a3836c8-5794-4d89-b818-2af7961bcd71"
      },
      "execution_count": 27,
      "outputs": [
        {
          "output_type": "stream",
          "name": "stdout",
          "text": [
            "+---+------+----------------+------+-----------+-----+--------------------+----------+------------+\n",
            "|age|   sex|            name|course|roll number|marks|               email|percentage|country name|\n",
            "+---+------+----------------+------+-----------+-----+--------------------+----------+------------+\n",
            "| 28|  Male|  Sheryll Towler|   DSA|      41487|   51|Claude Panos_Judi...|      0.51|     Nigeria|\n",
            "| 29|Female|       Kena Wild|   DSA|     102285|   45|Dustin Feagins_Ma...|      0.45|     Nigeria|\n",
            "| 28|Female|    Jc Andrepont|   DSA|     232060|   68|Billi Clore_Abram...|      0.68|     Nigeria|\n",
            "| 29|Female|    Paris Hutton|   DSA|     271472|  109|Sheryll Towler_Al...|      1.09|     Nigeria|\n",
            "| 28|Female|  Dustin Feagins|   DSA|     291984|   92|Abram Nagao_Kena ...|      0.92|     Nigeria|\n",
            "| 28|Female|Mickey Cortright|   DSA|     342003|   54|Mitzi Seldon_Jean...|      0.54|     Nigeria|\n",
            "| 29|Female|     Anna Santos|   DSA|     411479|   52|Kena Wild_Mitzi S...|      0.52|     Nigeria|\n",
            "| 28|Female|  Maybell Duguay|   DSA|     452141|   39|Leontine Phillips...|      0.39|     Nigeria|\n",
            "| 29|Female|    Paris Hutton|   DSA|     492159|   70|Nicole Harwood_Ma...|       0.7|     Nigeria|\n",
            "| 29|  Male|  Celeste Lollis|   DSA|     562065|   95|Jc Andrepont_Mela...|      0.95|     Nigeria|\n",
            "| 29|  Male|  Maybell Duguay|   DSA|     592061|   93|Eda Neathery_Jenn...|      0.93|     Nigeria|\n",
            "| 28|  Male|    Mitzi Seldon|   DSA|     622981|   55|Lawanda Wohlwend_...|      0.55|     Nigeria|\n",
            "| 28|Female|  Jenna Montague|   DSA|     691564|   36|Mitzi Seldon_Sebr...|      0.36|     Nigeria|\n",
            "| 28|Female|  Celeste Lollis|   DSA|     731879|   86|Hubert Oliveras_G...|      0.86|     Nigeria|\n",
            "| 28|  Male|  Sheryll Towler|   DSA|     831562|   69|Kena Wild_Gonzalo...|      0.69|     Nigeria|\n",
            "| 28|Female|  Sheryll Towler|   DSA|     871967|   74|Michelle Ruggiero...|      0.74|     Nigeria|\n",
            "| 28|  Male|  Margene Moores|   DSA|     892010|  103|Anna Santos_Naoma...|      1.03|     Nigeria|\n",
            "| 28|Female|  Somer Stoecker|   DSA|     901958|   74|Kizzy Brenner_Jc ...|      0.74|     Nigeria|\n",
            "| 28|Female|Lawanda Wohlwend|   DSA|     951686|   70|Loris Crossett_Ni...|       0.7|     Nigeria|\n",
            "| 28|  Male|  Jenna Montague|   DSA|    1002103|   46|Melani Engberg_Hu...|      0.46|     Nigeria|\n",
            "+---+------+----------------+------+-----------+-----+--------------------+----------+------------+\n",
            "only showing top 20 rows\n",
            "\n"
          ]
        }
      ]
    },
    {
      "cell_type": "code",
      "source": [
        "df.filter(df.name.endswith(\"se\")).show()"
      ],
      "metadata": {
        "colab": {
          "base_uri": "https://localhost:8080/"
        },
        "id": "Z4vPHCWFnNc8",
        "outputId": "7e44837d-b0a9-4319-f75a-3d33328be446"
      },
      "execution_count": 28,
      "outputs": [
        {
          "output_type": "stream",
          "name": "stdout",
          "text": [
            "+---+------+--------------+------+-----------+-----+--------------------+----------+------------+\n",
            "|age|   sex|          name|course|roll number|marks|               email|percentage|country name|\n",
            "+---+------+--------------+------+-----------+-----+--------------------+----------+------------+\n",
            "| 28|Female|Latia Vanhoose|    DB|     122502|   37|Latia Vanhoose_Mi...|      0.37|     Nigeria|\n",
            "| 29|Female|Latia Vanhoose|   MVC|     132110|   65|Eda Neathery_Nico...|      0.65|     Nigeria|\n",
            "| 29|Female|Latia Vanhoose|    DB|     152159|   37|Claude Panos_Sant...|      0.37|     Nigeria|\n",
            "| 29|  Male|Latia Vanhoose| Cloud|    1832268|   70|Marylee Capasso_S...|       0.7|     Nigeria|\n",
            "| 29|  Male|Latia Vanhoose|   OOP|    2372748|  104|Latia Vanhoose_La...|      1.04|     Nigeria|\n",
            "| 29|Female|Latia Vanhoose|    PF|    2861854|   52|Claude Panos_Nico...|      0.52|     Nigeria|\n",
            "| 29|  Male|Latia Vanhoose|   MVC|    2992281|  100|Elenore Choy_Cord...|       1.0|     Nigeria|\n",
            "| 29|Female|Latia Vanhoose|   MVC|    3091650|   40|Cordie Harnois_Se...|       0.4|     Nigeria|\n",
            "| 29|Female|Latia Vanhoose|   OOP|    3841395|   36|Kizzy Brenner_Eda...|      0.36|     Nigeria|\n",
            "| 29|  Male|Latia Vanhoose| Cloud|    4661276|   50|Jc Andrepont_Anni...|       0.5|     Nigeria|\n",
            "| 28|Female|Latia Vanhoose|   OOP|    4792828|   82|Tamera Blakley_Mi...|      0.82|     Nigeria|\n",
            "| 28|Female|Latia Vanhoose|    PF|    5222171|   83|Toshiko Hillyard_...|      0.83|     Nigeria|\n",
            "| 28|Female|Latia Vanhoose| Cloud|    6701628|   43|Abram Nagao_Cheri...|      0.43|     Nigeria|\n",
            "| 29|Female|Latia Vanhoose|   MVC|    6771882|   59|Alberta Freund_La...|      0.59|     Nigeria|\n",
            "| 28|Female|Latia Vanhoose|   MVC|    7381991|  104|Eda Neathery_Mich...|      1.04|     Nigeria|\n",
            "| 29|  Male|Latia Vanhoose| Cloud|    7721956|   55|Jalisa Swenson_An...|      0.55|     Nigeria|\n",
            "| 28|  Male|Latia Vanhoose|   OOP|    7741757|   76|Loris Crossett_Na...|      0.76|     Nigeria|\n",
            "| 28|  Male|Latia Vanhoose|   DSA|    7792270|   47|Eda Neathery_Donn...|      0.47|     Nigeria|\n",
            "| 28|  Male|Latia Vanhoose|   DSA|    9442974|   39|Jc Andrepont_Cele...|      0.39|     Nigeria|\n",
            "| 28|Female|Latia Vanhoose| Cloud|    9471888|   66|Naoma Fritts_Kena...|      0.66|     Nigeria|\n",
            "+---+------+--------------+------+-----------+-----+--------------------+----------+------------+\n",
            "\n"
          ]
        }
      ]
    },
    {
      "cell_type": "code",
      "source": [
        "df.filter(df.name.contains(\"se\")).show()"
      ],
      "metadata": {
        "colab": {
          "base_uri": "https://localhost:8080/"
        },
        "id": "_eoJ1OyrmpgR",
        "outputId": "46a5b127-c077-4feb-ff0f-3a20871f28d4"
      },
      "execution_count": 29,
      "outputs": [
        {
          "output_type": "stream",
          "name": "stdout",
          "text": [
            "+---+------+--------------+------+-----------+-----+--------------------+----------+------------+\n",
            "|age|   sex|          name|course|roll number|marks|               email|percentage|country name|\n",
            "+---+------+--------------+------+-----------+-----+--------------------+----------+------------+\n",
            "| 28|Female|Latia Vanhoose|    DB|     122502|   37|Latia Vanhoose_Mi...|      0.37|     Nigeria|\n",
            "| 29|Female|Latia Vanhoose|   MVC|     132110|   65|Eda Neathery_Nico...|      0.65|     Nigeria|\n",
            "| 29|Female|Latia Vanhoose|    DB|     152159|   37|Claude Panos_Sant...|      0.37|     Nigeria|\n",
            "| 29|  Male|Loris Crossett|   MVC|     161771|   46|Mitzi Seldon_Jenn...|      0.46|     Nigeria|\n",
            "| 29|Female|Loris Crossett|    PF|     201487|  106|Elenore Choy_Lati...|      1.06|     Nigeria|\n",
            "| 28|Female|Loris Crossett|    PF|     332739|   72|Michelle Ruggiero...|      0.72|     Nigeria|\n",
            "| 29|  Male|Loris Crossett|    PF|     911593|   56|Gonzalo Ferebee_M...|      0.56|     Nigeria|\n",
            "| 28|Female|Loris Crossett|   DSA|    1662549|   96|Paris Hutton_Lati...|      0.96|     Nigeria|\n",
            "| 29|  Male|Latia Vanhoose| Cloud|    1832268|   70|Marylee Capasso_S...|       0.7|     Nigeria|\n",
            "| 29|  Male|Latia Vanhoose|   OOP|    2372748|  104|Latia Vanhoose_La...|      1.04|     Nigeria|\n",
            "| 28|Female|Loris Crossett|   OOP|    2691881|   39|Maybell Duguay_Ni...|      0.39|     Nigeria|\n",
            "| 28|  Male|Loris Crossett|   OOP|    2852490|   35|Loris Crossett_Do...|      0.35|     Nigeria|\n",
            "| 29|Female|Latia Vanhoose|    PF|    2861854|   52|Claude Panos_Nico...|      0.52|     Nigeria|\n",
            "| 29|  Male|Latia Vanhoose|   MVC|    2992281|  100|Elenore Choy_Cord...|       1.0|     Nigeria|\n",
            "| 29|Female|Latia Vanhoose|   MVC|    3091650|   40|Cordie Harnois_Se...|       0.4|     Nigeria|\n",
            "| 28|Female|Loris Crossett|   OOP|    3502780|   40|Jenna Montague_Co...|       0.4|     Nigeria|\n",
            "| 28|Female|Loris Crossett|    PF|    3531684|   94|Dustin Feagins_Ta...|      0.94|     Nigeria|\n",
            "| 29|  Male|Loris Crossett|   OOP|    3592529|   90|Annika Hoffman_To...|       0.9|     Nigeria|\n",
            "| 29|Female|Latia Vanhoose|   OOP|    3841395|   36|Kizzy Brenner_Eda...|      0.36|     Nigeria|\n",
            "| 28|Female|Loris Crossett|    PF|    3861248|  104|Dustin Feagins_Ch...|      1.04|     Nigeria|\n",
            "+---+------+--------------+------+-----------+-----+--------------------+----------+------------+\n",
            "only showing top 20 rows\n",
            "\n"
          ]
        }
      ]
    },
    {
      "cell_type": "code",
      "execution_count": null,
      "metadata": {
        "application/vnd.databricks.v1+cell": {
          "cellMetadata": {
            "byteLimit": 2048000,
            "rowLimit": 10000
          },
          "inputWidgets": {},
          "nuid": "f277c0b0-91d3-4136-a77a-e27145df0f69",
          "showTitle": false,
          "title": ""
        },
        "id": "XZ0oc3fvjItM",
        "outputId": "23a7e995-9739-4a86-88d0-42f1064c37ff"
      },
      "outputs": [
        {
          "output_type": "stream",
          "name": "stdout",
          "text": [
            "+---+------+-----------------+------+-----------+-----+--------------------+----------+------------+\n|age|   sex|             name|course|roll number|marks|               email|percentage|country name|\n+---+------+-----------------+------+-----------+-----+--------------------+----------+------------+\n| 28|Female|  Hubert Oliveras|    DB|       2984|   69|Annika Hoffman_Na...|      0.69|     Nigeria|\n| 29|  Male|  Ernest Rossbach|    DB|     111449|   63|Maybell Duguay_Ab...|      0.63|     Nigeria|\n| 28|Female| Mickey Cortright|    DB|     192537|   72|Ernest Rossbach_M...|      0.72|     Nigeria|\n| 28|Female|      Anna Santos|    DB|     311589|   89|Celeste Lollis_Mi...|      0.89|     Nigeria|\n| 28|  Male| Toshiko Hillyard|    DB|     392218|   57|Leontine Phillips...|      0.57|     Nigeria|\n| 29|  Male|     Paris Hutton|    DB|     481229|   67|Clementina Menke_...|      0.67|     Nigeria|\n| 28|Female| Mickey Cortright|    DB|     551389|   53|Tijuana Kropf_Jen...|      0.53|     Nigeria|\n| 28|Female|Leontine Phillips|    DB|     602404|   58|Neda Briski_Cheri...|      0.58|     Nigeria|\n| 28|Female|  Hubert Oliveras|    DB|     771081|   89|Kizzy Brenner_Dus...|      0.89|     Nigeria|\n| 29|Female|     Elenore Choy|    DB|     811824|   65|Maybell Duguay_Me...|      0.65|     Nigeria|\n| 29|  Male| Clementina Menke|    DB|     882200|   86|Michelle Ruggiero...|      0.86|     Nigeria|\n| 29|Female|  Sebrina Maresca|    DB|     922210|   64|Toshiko Hillyard_...|      0.64|     Nigeria|\n| 29|  Male|     Naoma Fritts|    DB|     931295|   89|Hubert Oliveras_S...|      0.89|     Nigeria|\n| 28|  Male|   Annika Hoffman|    DB|    1031544|   54|Dustin Feagins_So...|      0.54|     Nigeria|\n| 29|Female|     Claude Panos|    DB|    1222887|   85|Hubert Oliveras_S...|      0.85|     Nigeria|\n| 29|Female|Leontine Phillips|    DB|    1432252|   77|Billi Clore_Shery...|      0.77|     Nigeria|\n| 28|Female|  Gonzalo Ferebee|    DB|    1451513|   79|Claude Panos_Tame...|      0.79|     Nigeria|\n| 28|  Male|  Marylee Capasso|    DB|    1611411|  106|Annika Hoffman_Lo...|      1.06|     Nigeria|\n| 29|Female|Michelle Ruggiero|    DB|    1642509|   55|Hubert Oliveras_M...|      0.55|     Nigeria|\n| 29|  Male|   Alberta Freund|    DB|    1671638|  108|Clementina Menke_...|      1.08|     Nigeria|\n+---+------+-----------------+------+-----------+-----+--------------------+----------+------------+\nonly showing top 20 rows\n\n"
          ]
        }
      ],
      "source": [
        "df.filter( (df.course == \"DB\") & (df.marks > 50) ).show()"
      ]
    },
    {
      "cell_type": "code",
      "execution_count": null,
      "metadata": {
        "application/vnd.databricks.v1+cell": {
          "cellMetadata": {
            "byteLimit": 2048000,
            "rowLimit": 10000
          },
          "inputWidgets": {},
          "nuid": "33e3617d-c9ea-4616-9f74-4f1ff6b6efae",
          "showTitle": false,
          "title": ""
        },
        "id": "S2OeBevCjItN",
        "outputId": "2c9a3fd1-0173-46b1-ea0a-28a3b2979a9d"
      },
      "outputs": [
        {
          "output_type": "stream",
          "name": "stdout",
          "text": [
            "+---+------+----------------+------+-----------+-----+--------------------+----------+------------+\n|age|   sex|            name|course|roll number|marks|               email|percentage|country name|\n+---+------+----------------+------+-----------+-----+--------------------+----------+------------+\n| 28|Female| Hubert Oliveras|    DB|       2984|   69|Annika Hoffman_Na...|      0.69|     Nigeria|\n| 29|Female|Toshiko Hillyard| Cloud|      12899|   72|Margene Moores_Ma...|      0.72|     Nigeria|\n| 29|Female|    Elenore Choy|    DB|      32877|   39|Billi Clore_Mitzi...|      0.39|     Nigeria|\n| 28|  Male|  Sheryll Towler|   DSA|      41487|   51|Claude Panos_Judi...|      0.51|     Nigeria|\n| 28|  Male|     Neda Briski|   OOP|      61973|   79|Alberta Freund_El...|      0.79|     Nigeria|\n| 28|Female|    Claude Panos| Cloud|      72409|   95|Sheryll Towler_Al...|      0.95|     Nigeria|\n| 29|  Male|  Cordie Harnois|   OOP|      92882|   61|Judie Chipps_Clem...|      0.61|     Nigeria|\n| 29|Female|       Kena Wild|   DSA|     102285|   45|Dustin Feagins_Ma...|      0.45|     Nigeria|\n| 29|  Male| Ernest Rossbach|    DB|     111449|   63|Maybell Duguay_Ab...|      0.63|     Nigeria|\n| 28|Female|  Latia Vanhoose|    DB|     122502|   37|Latia Vanhoose_Mi...|      0.37|     Nigeria|\n| 29|Female|  Latia Vanhoose|    DB|     152159|   37|Claude Panos_Sant...|      0.37|     Nigeria|\n| 29|  Male|  Annika Hoffman|   OOP|     171660|   32|Taryn Brownlee_Mi...|      0.32|     Nigeria|\n| 28|Female|Mickey Cortright|    DB|     192537|   72|Ernest Rossbach_M...|      0.72|     Nigeria|\n| 28|Female|       Kena Wild| Cloud|     221750|   70|Mitzi Seldon_Jenn...|       0.7|     Nigeria|\n| 28|Female|    Jc Andrepont|   DSA|     232060|   68|Billi Clore_Abram...|      0.68|     Nigeria|\n| 29|Female|     Anna Santos| Cloud|     242254|   78|Jc Andrepont_Hube...|      0.78|     Nigeria|\n| 28|Female|  Alberta Freund|   OOP|     251805|   93|Annika Hoffman_Sh...|      0.93|     Nigeria|\n| 28|Female|  Maybell Duguay| Cloud|     261439|   30|Nicole Harwood_Ju...|       0.3|     Nigeria|\n| 29|Female|    Paris Hutton|   DSA|     271472|  109|Sheryll Towler_Al...|      1.09|     Nigeria|\n| 29|Female|    Cheri Kenney| Cloud|     281408|   53|Annika Hoffman_Me...|      0.53|     Nigeria|\n+---+------+----------------+------+-----------+-----+--------------------+----------+------------+\nonly showing top 20 rows\n\n"
          ]
        }
      ],
      "source": [
        "courses = [\"DB\", \"Cloud\", \"OOP\", \"DSA\"]\n",
        "df.filter(df.course.isin(courses)).show()"
      ]
    },
    {
      "cell_type": "code",
      "execution_count": null,
      "metadata": {
        "application/vnd.databricks.v1+cell": {
          "cellMetadata": {
            "byteLimit": 2048000,
            "rowLimit": 10000
          },
          "inputWidgets": {},
          "nuid": "a975e8dd-2fc7-477b-ae58-78b1b58575f9",
          "showTitle": false,
          "title": ""
        },
        "id": "K6yQleBRjItN",
        "outputId": "786cab6b-8826-4d6f-ed13-cc511eefd501"
      },
      "outputs": [
        {
          "output_type": "stream",
          "name": "stdout",
          "text": [
            "+---+------+--------------+------+-----------+-----+--------------------+----------+------------+\n|age|   sex|          name|course|roll number|marks|               email|percentage|country name|\n+---+------+--------------+------+-----------+-----+--------------------+----------+------------+\n| 28|Female|Latia Vanhoose|    DB|     122502|   37|Latia Vanhoose_Mi...|      0.37|     Nigeria|\n| 29|Female|Latia Vanhoose|   MVC|     132110|   65|Eda Neathery_Nico...|      0.65|     Nigeria|\n| 29|Female|Latia Vanhoose|    DB|     152159|   37|Claude Panos_Sant...|      0.37|     Nigeria|\n| 29|  Male|Latia Vanhoose| Cloud|    1832268|   70|Marylee Capasso_S...|       0.7|     Nigeria|\n| 29|  Male|Latia Vanhoose|   OOP|    2372748|  104|Latia Vanhoose_La...|      1.04|     Nigeria|\n| 29|Female|Latia Vanhoose|    PF|    2861854|   52|Claude Panos_Nico...|      0.52|     Nigeria|\n| 29|  Male|Latia Vanhoose|   MVC|    2992281|  100|Elenore Choy_Cord...|       1.0|     Nigeria|\n| 29|Female|Latia Vanhoose|   MVC|    3091650|   40|Cordie Harnois_Se...|       0.4|     Nigeria|\n| 29|Female|Latia Vanhoose|   OOP|    3841395|   36|Kizzy Brenner_Eda...|      0.36|     Nigeria|\n| 29|  Male|Latia Vanhoose| Cloud|    4661276|   50|Jc Andrepont_Anni...|       0.5|     Nigeria|\n| 28|Female|Latia Vanhoose|   OOP|    4792828|   82|Tamera Blakley_Mi...|      0.82|     Nigeria|\n| 28|Female|Latia Vanhoose|    PF|    5222171|   83|Toshiko Hillyard_...|      0.83|     Nigeria|\n| 28|Female|Latia Vanhoose| Cloud|    6701628|   43|Abram Nagao_Cheri...|      0.43|     Nigeria|\n| 29|Female|Latia Vanhoose|   MVC|    6771882|   59|Alberta Freund_La...|      0.59|     Nigeria|\n| 28|Female|Latia Vanhoose|   MVC|    7381991|  104|Eda Neathery_Mich...|      1.04|     Nigeria|\n| 29|  Male|Latia Vanhoose| Cloud|    7721956|   55|Jalisa Swenson_An...|      0.55|     Nigeria|\n| 28|  Male|Latia Vanhoose|   OOP|    7741757|   76|Loris Crossett_Na...|      0.76|     Nigeria|\n| 28|  Male|Latia Vanhoose|   DSA|    7792270|   47|Eda Neathery_Donn...|      0.47|     Nigeria|\n| 28|  Male|Latia Vanhoose|   DSA|    9442974|   39|Jc Andrepont_Cele...|      0.39|     Nigeria|\n| 28|Female|Latia Vanhoose| Cloud|    9471888|   66|Naoma Fritts_Kena...|      0.66|     Nigeria|\n+---+------+--------------+------+-----------+-----+--------------------+----------+------------+\n\n"
          ]
        }
      ],
      "source": [
        "df.filter(df.name.endswith(\"se\")).show()"
      ]
    },
    {
      "cell_type": "code",
      "execution_count": null,
      "metadata": {
        "application/vnd.databricks.v1+cell": {
          "cellMetadata": {
            "byteLimit": 2048000,
            "rowLimit": 10000
          },
          "inputWidgets": {},
          "nuid": "18d6404e-0131-4de2-9f5c-99496498f9c6",
          "showTitle": false,
          "title": ""
        },
        "id": "mW1DErQljItN",
        "outputId": "fdbba5e1-4edb-4d1c-e0b4-e446fd762e7b"
      },
      "outputs": [
        {
          "output_type": "stream",
          "name": "stdout",
          "text": [
            "+---+------+--------------+------+-----------+-----+--------------------+----------+------------+\n|age|   sex|          name|course|roll number|marks|               email|percentage|country name|\n+---+------+--------------+------+-----------+-----+--------------------+----------+------------+\n| 28|Female|Latia Vanhoose|    DB|     122502|   37|Latia Vanhoose_Mi...|      0.37|     Nigeria|\n| 29|Female|Latia Vanhoose|   MVC|     132110|   65|Eda Neathery_Nico...|      0.65|     Nigeria|\n| 29|Female|Latia Vanhoose|    DB|     152159|   37|Claude Panos_Sant...|      0.37|     Nigeria|\n| 29|  Male|Loris Crossett|   MVC|     161771|   46|Mitzi Seldon_Jenn...|      0.46|     Nigeria|\n| 29|Female|Loris Crossett|    PF|     201487|  106|Elenore Choy_Lati...|      1.06|     Nigeria|\n| 28|Female|Loris Crossett|    PF|     332739|   72|Michelle Ruggiero...|      0.72|     Nigeria|\n| 29|  Male|Loris Crossett|    PF|     911593|   56|Gonzalo Ferebee_M...|      0.56|     Nigeria|\n| 28|Female|Loris Crossett|   DSA|    1662549|   96|Paris Hutton_Lati...|      0.96|     Nigeria|\n| 29|  Male|Latia Vanhoose| Cloud|    1832268|   70|Marylee Capasso_S...|       0.7|     Nigeria|\n| 29|  Male|Latia Vanhoose|   OOP|    2372748|  104|Latia Vanhoose_La...|      1.04|     Nigeria|\n| 28|Female|Loris Crossett|   OOP|    2691881|   39|Maybell Duguay_Ni...|      0.39|     Nigeria|\n| 28|  Male|Loris Crossett|   OOP|    2852490|   35|Loris Crossett_Do...|      0.35|     Nigeria|\n| 29|Female|Latia Vanhoose|    PF|    2861854|   52|Claude Panos_Nico...|      0.52|     Nigeria|\n| 29|  Male|Latia Vanhoose|   MVC|    2992281|  100|Elenore Choy_Cord...|       1.0|     Nigeria|\n| 29|Female|Latia Vanhoose|   MVC|    3091650|   40|Cordie Harnois_Se...|       0.4|     Nigeria|\n| 28|Female|Loris Crossett|   OOP|    3502780|   40|Jenna Montague_Co...|       0.4|     Nigeria|\n| 28|Female|Loris Crossett|    PF|    3531684|   94|Dustin Feagins_Ta...|      0.94|     Nigeria|\n| 29|  Male|Loris Crossett|   OOP|    3592529|   90|Annika Hoffman_To...|       0.9|     Nigeria|\n| 29|Female|Latia Vanhoose|   OOP|    3841395|   36|Kizzy Brenner_Eda...|      0.36|     Nigeria|\n| 28|Female|Loris Crossett|    PF|    3861248|  104|Dustin Feagins_Ch...|      1.04|     Nigeria|\n+---+------+--------------+------+-----------+-----+--------------------+----------+------------+\nonly showing top 20 rows\n\n"
          ]
        }
      ],
      "source": [
        "df.filter(df.name.contains(\"se\")).show()"
      ]
    },
    {
      "cell_type": "code",
      "execution_count": null,
      "metadata": {
        "application/vnd.databricks.v1+cell": {
          "cellMetadata": {
            "byteLimit": 2048000,
            "rowLimit": 10000
          },
          "inputWidgets": {},
          "nuid": "90faea02-bfa3-4552-bf80-eb818ad58d17",
          "showTitle": false,
          "title": ""
        },
        "id": "rMFoijkojItN",
        "outputId": "6d234620-8d99-4329-884c-c5cbc2e3f7ad"
      },
      "outputs": [
        {
          "output_type": "stream",
          "name": "stdout",
          "text": [
            "+---+---+----+------+-----------+-----+-----+----------+------------+\n|age|sex|name|course|roll number|marks|email|percentage|country name|\n+---+---+----+------+-----------+-----+-----+----------+------------+\n+---+---+----+------+-----------+-----+-----+----------+------------+\n\n"
          ]
        }
      ],
      "source": [
        "df.filter(df.name.startswith(\"se\")).show()"
      ]
    },
    {
      "cell_type": "code",
      "execution_count": null,
      "metadata": {
        "application/vnd.databricks.v1+cell": {
          "cellMetadata": {
            "byteLimit": 2048000,
            "rowLimit": 10000
          },
          "inputWidgets": {},
          "nuid": "192ba500-570e-4e0d-b0ab-46cbc73c2eaa",
          "showTitle": false,
          "title": ""
        },
        "id": "5tmh9CLOjItO",
        "outputId": "52006718-0475-45d6-e337-2d95997c468f"
      },
      "outputs": [
        {
          "output_type": "stream",
          "name": "stdout",
          "text": [
            "+------+\n|   sex|\n+------+\n|Female|\n|  Male|\n+------+\n\n"
          ]
        }
      ],
      "source": [
        "df.select('sex').distinct().show()"
      ]
    },
    {
      "cell_type": "code",
      "execution_count": null,
      "metadata": {
        "application/vnd.databricks.v1+cell": {
          "cellMetadata": {
            "byteLimit": 2048000,
            "rowLimit": 10000
          },
          "inputWidgets": {},
          "nuid": "bed40127-50be-4295-bc9c-776d41e2851c",
          "showTitle": false,
          "title": ""
        },
        "id": "GNAJc_hnjItO",
        "outputId": "d7a8c94f-572d-493d-bce4-e94eb51c2883"
      },
      "outputs": [
        {
          "output_type": "stream",
          "name": "stdout",
          "text": [
            "+---+\n|age|\n+---+\n| 28|\n| 29|\n+---+\n\n"
          ]
        }
      ],
      "source": [
        "df.select('age').distinct().show()"
      ]
    },
    {
      "cell_type": "code",
      "execution_count": null,
      "metadata": {
        "application/vnd.databricks.v1+cell": {
          "cellMetadata": {
            "byteLimit": 2048000,
            "rowLimit": 10000
          },
          "inputWidgets": {},
          "nuid": "be2b91af-608b-4566-9ff9-89dd1d2d0291",
          "showTitle": false,
          "title": ""
        },
        "id": "7zgejNJqjItO",
        "outputId": "16eb7abc-3e92-45d9-b880-dec827b2eb99"
      },
      "outputs": [
        {
          "output_type": "stream",
          "name": "stdout",
          "text": [
            "Out[58]: 157"
          ]
        }
      ],
      "source": [
        "df.filter(df.course == \"DB\").count()"
      ]
    },
    {
      "cell_type": "code",
      "execution_count": null,
      "metadata": {
        "application/vnd.databricks.v1+cell": {
          "cellMetadata": {
            "byteLimit": 2048000,
            "rowLimit": 10000
          },
          "inputWidgets": {},
          "nuid": "076b7b92-7e8f-4075-b2c4-b5e4031d4472",
          "showTitle": false,
          "title": ""
        },
        "id": "GrIckYmXjItO",
        "outputId": "3f71c577-480d-4376-cf2d-ca289b5799b1"
      },
      "outputs": [
        {
          "output_type": "stream",
          "name": "stdout",
          "text": [
            "+---+------+-----------------+------+-----------+-----+--------------------+----------+------------+\n|age|   sex|             name|course|roll number|marks|               email|percentage|country name|\n+---+------+-----------------+------+-----------+-----+--------------------+----------+------------+\n| 28|Female|   Maybell Duguay| Cloud|     261439|   30|Nicole Harwood_Ju...|       0.3|     Nigeria|\n| 29|  Male|   Jalisa Swenson|   OOP|    4751515|   30|Annika Hoffman_Hu...|       0.3|     Nigeria|\n| 28|  Male|  Marylee Capasso|   DSA|    2081560|   30|Sheryll Towler_Do...|       0.3|     Nigeria|\n| 29|Female|  Gonzalo Ferebee|   DSA|    5631172|   30|Jeannetta Golden_...|       0.3|     Nigeria|\n| 29|  Male|Michelle Ruggiero|    PF|    6001585|   30|Paris Hutton_Marg...|       0.3|     Nigeria|\n| 29|  Male|     Elenore Choy|    DB|    3652057|   30|Jc Andrepont_Gonz...|       0.3|     Nigeria|\n| 29|Female|Michelle Ruggiero|    DB|    9232210|   30|Donna Yerby_Latia...|       0.3|     Nigeria|\n| 29|Female|   Tamera Blakley|   DSA|    3911247|   30|Donna Yerby_Bonit...|       0.3|     Nigeria|\n| 28|Female|     Jc Andrepont|    PF|     972733|   30|Eda Neathery_Eda ...|       0.3|     Nigeria|\n| 28|  Male|      Abram Nagao| Cloud|    2652463|   31|Eda Neathery_Anni...|      0.31|     Nigeria|\n| 29|  Male|   Tamera Blakley|   OOP|    7341268|   31|Anna Santos_Naoma...|      0.31|     Nigeria|\n| 29|Female|  Gonzalo Ferebee|   OOP|    2262603|   31|Bonita Higuera_Ch...|      0.31|     Nigeria|\n| 28|  Male|    Kizzy Brenner| Cloud|    4622328|   31|Leontine Phillips...|      0.31|     Nigeria|\n| 29|  Male|  Sebrina Maresca| Cloud|    5042394|   31|Donna Yerby_Miche...|      0.31|     Nigeria|\n| 28|  Male|   Bonita Higuera| Cloud|    7671835|   31|Taryn Brownlee_Se...|      0.31|     Nigeria|\n| 29|Female|   Nicole Harwood|    PF|    8121198|   31|Bonita Higuera_Pr...|      0.31|     Nigeria|\n| 29|Female|   Alberta Freund|   OOP|    4501424|   31|Toshiko Hillyard_...|      0.31|     Nigeria|\n| 28|Female|  Sebrina Maresca|    PF|    5742239|   31|Bonita Higuera_Se...|      0.31|     Nigeria|\n| 28|  Male|      Billi Clore|    DB|    9151306|   31|Latia Vanhoose_Er...|      0.31|     Nigeria|\n| 29|  Male|     Paris Hutton|   MVC|     752504|   32|Elenore Choy_Elen...|      0.32|     Nigeria|\n+---+------+-----------------+------+-----------+-----+--------------------+----------+------------+\nonly showing top 20 rows\n\n"
          ]
        }
      ],
      "source": [
        "df.sort(df.marks).show()"
      ]
    },
    {
      "cell_type": "code",
      "execution_count": null,
      "metadata": {
        "application/vnd.databricks.v1+cell": {
          "cellMetadata": {
            "byteLimit": 2048000,
            "rowLimit": 10000
          },
          "inputWidgets": {},
          "nuid": "cdeb31c5-7b04-4a2e-98be-c40cd80b7958",
          "showTitle": false,
          "title": ""
        },
        "id": "6ZGUOYPMjItP",
        "outputId": "5c1908a0-46ae-4027-bf62-9b5cf9c1b539"
      },
      "outputs": [
        {
          "output_type": "stream",
          "name": "stdout",
          "text": [
            "+---+------+---------------+------+-----------+-----+--------------------+----------+------------+\n|age|   sex|           name|course|roll number|marks|               email|percentage|country name|\n+---+------+---------------+------+-----------+-----+--------------------+----------+------------+\n| 28|  Male|Marylee Capasso|   DSA|    2081560|   30|Sheryll Towler_Do...|       0.3|     Nigeria|\n| 28|Female| Maybell Duguay| Cloud|     261439|   30|Nicole Harwood_Ju...|       0.3|     Nigeria|\n| 28|Female|   Jc Andrepont|    PF|     972733|   30|Eda Neathery_Eda ...|       0.3|     Nigeria|\n| 28|Female|Sebrina Maresca|    PF|    5742239|   31|Bonita Higuera_Se...|      0.31|     Nigeria|\n| 28|  Male|  Kizzy Brenner| Cloud|    4622328|   31|Leontine Phillips...|      0.31|     Nigeria|\n| 28|  Male| Bonita Higuera| Cloud|    7671835|   31|Taryn Brownlee_Se...|      0.31|     Nigeria|\n| 28|  Male|    Abram Nagao| Cloud|    2652463|   31|Eda Neathery_Anni...|      0.31|     Nigeria|\n| 28|  Male|    Billi Clore|    DB|    9151306|   31|Latia Vanhoose_Er...|      0.31|     Nigeria|\n| 28|  Male|    Anna Santos|    DB|    9772185|   32|Kizzy Brenner_Ann...|      0.32|     Nigeria|\n| 28|Female|    Donna Yerby| Cloud|    4392575|   32|Leontine Phillips...|      0.32|     Nigeria|\n| 28|Female|   Cheri Kenney| Cloud|    2281771|   32|Tamera Blakley_Ab...|      0.32|     Nigeria|\n| 28|  Male|   Eda Neathery|    PF|    5082430|   32|Leontine Phillips...|      0.32|     Nigeria|\n| 28|Female|    Neda Briski|    PF|    3251377|   33|Kizzy Brenner_Mic...|      0.33|     Nigeria|\n| 28|Female| Bonita Higuera| Cloud|    6061881|   33|Dustin Feagins_La...|      0.33|     Nigeria|\n| 28|  Male|  Santa Kerfien|   MVC|    1992202|   33|Annika Hoffman_Ta...|      0.33|     Nigeria|\n| 28|  Male|Gonzalo Ferebee|   OOP|    7162059|   33|Melani Engberg_Me...|      0.33|     Nigeria|\n| 28|Female|  Santa Kerfien|   OOP|    3931948|   34|Jeannetta Golden_...|      0.34|     Nigeria|\n| 28|  Male| Bonita Higuera| Cloud|    1401526|   34|Jc Andrepont_Cher...|      0.34|     Nigeria|\n| 28|  Male|    Anna Santos|   OOP|    1621905|   34|Elenore Choy_Sant...|      0.34|     Nigeria|\n| 28|  Male| Alberta Freund| Cloud|    1802934|   34|Maybell Duguay_Pa...|      0.34|     Nigeria|\n+---+------+---------------+------+-----------+-----+--------------------+----------+------------+\nonly showing top 20 rows\n\n"
          ]
        }
      ],
      "source": [
        "df.sort(df.age,df.marks).show()"
      ]
    },
    {
      "cell_type": "code",
      "execution_count": null,
      "metadata": {
        "application/vnd.databricks.v1+cell": {
          "cellMetadata": {
            "byteLimit": 2048000,
            "rowLimit": 10000
          },
          "inputWidgets": {},
          "nuid": "41c11e09-baea-4b4b-bdae-a95bd1dd7b63",
          "showTitle": false,
          "title": ""
        },
        "id": "cS2lNsGijItP",
        "outputId": "d2f9bc0b-ac5b-469d-879e-7e6c6e35cbd9"
      },
      "outputs": [
        {
          "output_type": "stream",
          "name": "stdout",
          "text": [
            "+---+------+-----------------+------+-----------+-----+--------------------+----------+------------+\n|age|   sex|             name|course|roll number|marks|               email|percentage|country name|\n+---+------+-----------------+------+-----------+-----+--------------------+----------+------------+\n| 28|Female|   Maybell Duguay| Cloud|     261439|   30|Nicole Harwood_Ju...|       0.3|     Nigeria|\n| 29|  Male|   Jalisa Swenson|   OOP|    4751515|   30|Annika Hoffman_Hu...|       0.3|     Nigeria|\n| 28|  Male|  Marylee Capasso|   DSA|    2081560|   30|Sheryll Towler_Do...|       0.3|     Nigeria|\n| 29|Female|  Gonzalo Ferebee|   DSA|    5631172|   30|Jeannetta Golden_...|       0.3|     Nigeria|\n| 29|  Male|Michelle Ruggiero|    PF|    6001585|   30|Paris Hutton_Marg...|       0.3|     Nigeria|\n| 29|  Male|     Elenore Choy|    DB|    3652057|   30|Jc Andrepont_Gonz...|       0.3|     Nigeria|\n| 29|Female|Michelle Ruggiero|    DB|    9232210|   30|Donna Yerby_Latia...|       0.3|     Nigeria|\n| 29|Female|   Tamera Blakley|   DSA|    3911247|   30|Donna Yerby_Bonit...|       0.3|     Nigeria|\n| 28|Female|     Jc Andrepont|    PF|     972733|   30|Eda Neathery_Eda ...|       0.3|     Nigeria|\n| 28|  Male|      Abram Nagao| Cloud|    2652463|   31|Eda Neathery_Anni...|      0.31|     Nigeria|\n| 29|  Male|   Tamera Blakley|   OOP|    7341268|   31|Anna Santos_Naoma...|      0.31|     Nigeria|\n| 29|Female|  Gonzalo Ferebee|   OOP|    2262603|   31|Bonita Higuera_Ch...|      0.31|     Nigeria|\n| 28|  Male|    Kizzy Brenner| Cloud|    4622328|   31|Leontine Phillips...|      0.31|     Nigeria|\n| 29|  Male|  Sebrina Maresca| Cloud|    5042394|   31|Donna Yerby_Miche...|      0.31|     Nigeria|\n| 28|  Male|   Bonita Higuera| Cloud|    7671835|   31|Taryn Brownlee_Se...|      0.31|     Nigeria|\n| 29|Female|   Nicole Harwood|    PF|    8121198|   31|Bonita Higuera_Pr...|      0.31|     Nigeria|\n| 29|Female|   Alberta Freund|   OOP|    4501424|   31|Toshiko Hillyard_...|      0.31|     Nigeria|\n| 28|Female|  Sebrina Maresca|    PF|    5742239|   31|Bonita Higuera_Se...|      0.31|     Nigeria|\n| 28|  Male|      Billi Clore|    DB|    9151306|   31|Latia Vanhoose_Er...|      0.31|     Nigeria|\n| 29|  Male|     Paris Hutton|   MVC|     752504|   32|Elenore Choy_Elen...|      0.32|     Nigeria|\n+---+------+-----------------+------+-----------+-----+--------------------+----------+------------+\nonly showing top 20 rows\n\n"
          ]
        }
      ],
      "source": [
        "df.orderBy(df.marks).show()"
      ]
    },
    {
      "cell_type": "code",
      "execution_count": null,
      "metadata": {
        "application/vnd.databricks.v1+cell": {
          "cellMetadata": {
            "byteLimit": 2048000,
            "rowLimit": 10000
          },
          "inputWidgets": {},
          "nuid": "47fc5af6-603b-4e57-a831-dbd3e886632d",
          "showTitle": false,
          "title": ""
        },
        "id": "5jyMbSVqjItP",
        "outputId": "dc6c903a-c1c9-4d5e-ec9f-1891da109f67"
      },
      "outputs": [
        {
          "output_type": "stream",
          "name": "stdout",
          "text": [
            "+---+------+-----------------+------+-----------+-----+--------------------+----------+------------+\n|age|   sex|             name|course|roll number|marks|               email|percentage|country name|\n+---+------+-----------------+------+-----------+-----+--------------------+----------+------------+\n| 29|Female|   Tamera Blakley|   DSA|    3911247|   30|Donna Yerby_Bonit...|       0.3|     Nigeria|\n| 28|Female|     Jc Andrepont|    PF|     972733|   30|Eda Neathery_Eda ...|       0.3|     Nigeria|\n| 29|Female|  Gonzalo Ferebee|   DSA|    5631172|   30|Jeannetta Golden_...|       0.3|     Nigeria|\n| 28|Female|   Maybell Duguay| Cloud|     261439|   30|Nicole Harwood_Ju...|       0.3|     Nigeria|\n| 29|Female|Michelle Ruggiero|    DB|    9232210|   30|Donna Yerby_Latia...|       0.3|     Nigeria|\n| 28|Female|  Sebrina Maresca|    PF|    5742239|   31|Bonita Higuera_Se...|      0.31|     Nigeria|\n| 29|Female|   Alberta Freund|   OOP|    4501424|   31|Toshiko Hillyard_...|      0.31|     Nigeria|\n| 29|Female|   Nicole Harwood|    PF|    8121198|   31|Bonita Higuera_Pr...|      0.31|     Nigeria|\n| 29|Female|  Gonzalo Ferebee|   OOP|    2262603|   31|Bonita Higuera_Ch...|      0.31|     Nigeria|\n| 28|Female|      Donna Yerby| Cloud|    4392575|   32|Leontine Phillips...|      0.32|     Nigeria|\n| 28|Female|     Cheri Kenney| Cloud|    2281771|   32|Tamera Blakley_Ab...|      0.32|     Nigeria|\n| 29|Female|   Maybell Duguay|   MVC|    1102536|   32|Somer Stoecker_Ma...|      0.32|     Nigeria|\n| 29|Female|      Niki Klimek|    PF|     211508|   33|Cordie Harnois_Ju...|      0.33|     Nigeria|\n| 28|Female|   Bonita Higuera| Cloud|    6061881|   33|Dustin Feagins_La...|      0.33|     Nigeria|\n| 29|Female|  Hubert Oliveras|   DSA|    5542363|   33|Priscila Tavernie...|      0.33|     Nigeria|\n| 29|Female|     Naoma Fritts|   DSA|    4582052|   33|Kena Wild_Jenna M...|      0.33|     Nigeria|\n| 28|Female|      Neda Briski|    PF|    3251377|   33|Kizzy Brenner_Mic...|      0.33|     Nigeria|\n| 29|Female|   Sheryll Towler|   OOP|    6672653|   33|Jenna Montague_Sa...|      0.33|     Nigeria|\n| 29|Female|   Jenna Montague|    PF|    9991617|   33|Anna Santos_Jenna...|      0.33|     Nigeria|\n| 29|Female|      Abram Nagao|    PF|    9711154|   33|Judie Chipps_Naom...|      0.33|     Nigeria|\n+---+------+-----------------+------+-----------+-----+--------------------+----------+------------+\nonly showing top 20 rows\n\n"
          ]
        }
      ],
      "source": [
        "df.orderBy(df.sex,df.marks).show()"
      ]
    },
    {
      "cell_type": "code",
      "execution_count": null,
      "metadata": {
        "application/vnd.databricks.v1+cell": {
          "cellMetadata": {
            "byteLimit": 2048000,
            "rowLimit": 10000
          },
          "inputWidgets": {},
          "nuid": "14773959-f708-49a7-94f3-bc16ac6c6052",
          "showTitle": false,
          "title": ""
        },
        "id": "zBCLh3wejItP",
        "outputId": "1b2c45d9-2c7a-48fc-8e24-b5ac1c8893e6"
      },
      "outputs": [
        {
          "output_type": "stream",
          "name": "stdout",
          "text": [
            "+---+------+------------------+------+-----------+-----+--------------------+----------+------------+\n|age|   sex|              name|course|roll number|marks|               email|percentage|country name|\n+---+------+------------------+------+-----------+-----+--------------------+----------+------------+\n| 29|  Male|    Maybell Duguay|    PF|     701486|  109|Clementina Menke_...|      1.09|     Nigeria|\n| 28|  Male|    Loris Crossett|   OOP|    9692316|  109|Judie Chipps_Mich...|      1.09|     Nigeria|\n| 29|  Male|   Gonzalo Ferebee|   MVC|    5772006|  109|Niki Klimek_Marge...|      1.09|     Nigeria|\n| 29|Female|    Alberta Freund|   DSA|    6071316|  109|Dustin Feagins_Se...|      1.09|     Nigeria|\n| 29|Female|Priscila Tavernier|   OOP|    3902993|  109|Celeste Lollis_Bi...|      1.09|     Nigeria|\n| 29|Female|      Paris Hutton|   DSA|     271472|  109|Sheryll Towler_Al...|      1.09|     Nigeria|\n| 28|  Male|       Niki Klimek|   DSA|    5172507|  109|Marylee Capasso_E...|      1.09|     Nigeria|\n| 29|  Male| Michelle Ruggiero|   DSA|    1022971|  109|Cordie Harnois_Cl...|      1.09|     Nigeria|\n| 29|Female|      Eda Neathery|    PF|    9222608|  109|Kena Wild_Lawanda...|      1.09|     Nigeria|\n| 28|Female|    Melani Engberg| Cloud|    1872667|  109|Alberta Freund_Ni...|      1.09|     Nigeria|\n| 28|Female|    Jalisa Swenson|   MVC|    5712033|  109|Dustin Feagins_Hu...|      1.09|     Nigeria|\n| 28|Female|      Judie Chipps|   OOP|    5451977|  109|Tamera Blakley_Mi...|      1.09|     Nigeria|\n| 29|  Male|    Melani Engberg|    DB|    2941257|  108|Claude Panos_Kena...|      1.08|     Nigeria|\n| 28|  Male|  Clementina Menke|   DSA|    2772189|  108|Donna Yerby_Judie...|      1.08|     Nigeria|\n| 28|  Male|    Jenna Montague|   OOP|    3331161|  108|Leontine Phillips...|      1.08|     Nigeria|\n| 28|  Male|    Loris Crossett|   OOP|    8172914|  108|Paris Hutton_Pari...|      1.08|     Nigeria|\n| 29|  Male|    Alberta Freund|    DB|    1671638|  108|Clementina Menke_...|      1.08|     Nigeria|\n| 29|Female|  Lawanda Wohlwend| Cloud|    7222880|  108|Sheryll Towler_An...|      1.08|     Nigeria|\n| 28|Female|      Judie Chipps|   DSA|    4631068|  108|Toshiko Hillyard_...|      1.08|     Nigeria|\n| 28|Female|    Somer Stoecker|    PF|    5882098|  108|Judie Chipps_Clem...|      1.08|     Nigeria|\n+---+------+------------------+------+-----------+-----+--------------------+----------+------------+\nonly showing top 20 rows\n\n"
          ]
        }
      ],
      "source": [
        "df.orderBy(df.marks.desc()).show()"
      ]
    },
    {
      "cell_type": "code",
      "execution_count": null,
      "metadata": {
        "application/vnd.databricks.v1+cell": {
          "cellMetadata": {
            "byteLimit": 2048000,
            "rowLimit": 10000
          },
          "inputWidgets": {},
          "nuid": "9d6d1c8a-77a1-4782-88de-f97d7e0143c8",
          "showTitle": false,
          "title": ""
        },
        "id": "_ffOPIvpjItP",
        "outputId": "8d577550-daf7-41f0-86b5-b4af5be541b7"
      },
      "outputs": [
        {
          "output_type": "stream",
          "name": "stdout",
          "text": [
            "+---+----+-----------------+------+-----------+-----+--------------------+----------+------------+\n|age| sex|             name|course|roll number|marks|               email|percentage|country name|\n+---+----+-----------------+------+-----------+-----+--------------------+----------+------------+\n| 29|Male|   Jalisa Swenson|   OOP|    4751515|   30|Annika Hoffman_Hu...|       0.3|     Nigeria|\n| 29|Male|Michelle Ruggiero|    PF|    6001585|   30|Paris Hutton_Marg...|       0.3|     Nigeria|\n| 29|Male|     Elenore Choy|    DB|    3652057|   30|Jc Andrepont_Gonz...|       0.3|     Nigeria|\n| 28|Male|  Marylee Capasso|   DSA|    2081560|   30|Sheryll Towler_Do...|       0.3|     Nigeria|\n| 29|Male|   Tamera Blakley|   OOP|    7341268|   31|Anna Santos_Naoma...|      0.31|     Nigeria|\n| 28|Male|      Billi Clore|    DB|    9151306|   31|Latia Vanhoose_Er...|      0.31|     Nigeria|\n| 28|Male|      Abram Nagao| Cloud|    2652463|   31|Eda Neathery_Anni...|      0.31|     Nigeria|\n| 28|Male|   Bonita Higuera| Cloud|    7671835|   31|Taryn Brownlee_Se...|      0.31|     Nigeria|\n| 29|Male|  Sebrina Maresca| Cloud|    5042394|   31|Donna Yerby_Miche...|      0.31|     Nigeria|\n| 28|Male|    Kizzy Brenner| Cloud|    4622328|   31|Leontine Phillips...|      0.31|     Nigeria|\n| 29|Male|     Paris Hutton|   MVC|     752504|   32|Elenore Choy_Elen...|      0.32|     Nigeria|\n| 29|Male|   Margene Moores|   DSA|    3942449|   32|Tijuana Kropf_Nao...|      0.32|     Nigeria|\n| 28|Male|     Eda Neathery|    PF|    5082430|   32|Leontine Phillips...|      0.32|     Nigeria|\n| 29|Male|   Annika Hoffman|   OOP|     171660|   32|Taryn Brownlee_Mi...|      0.32|     Nigeria|\n| 29|Male|     Paris Hutton|   DSA|    9702829|   32|Hubert Oliveras_C...|      0.32|     Nigeria|\n| 28|Male|      Anna Santos|    DB|    9772185|   32|Kizzy Brenner_Ann...|      0.32|     Nigeria|\n| 29|Male|   Maybell Duguay|   DSA|    4441473|   33|Billi Clore_Cleme...|      0.33|     Nigeria|\n| 28|Male|    Santa Kerfien|   MVC|    1992202|   33|Annika Hoffman_Ta...|      0.33|     Nigeria|\n| 29|Male|   Tamera Blakley|   DSA|    2661934|   33|Alberta Freund_Ti...|      0.33|     Nigeria|\n| 29|Male|  Sebrina Maresca|    PF|    2712040|   33|Jeannetta Golden_...|      0.33|     Nigeria|\n+---+----+-----------------+------+-----------+-----+--------------------+----------+------------+\nonly showing top 20 rows\n\n"
          ]
        }
      ],
      "source": [
        "df.orderBy(df.sex.desc(),df.marks.asc()).show()"
      ]
    },
    {
      "cell_type": "code",
      "execution_count": null,
      "metadata": {
        "application/vnd.databricks.v1+cell": {
          "cellMetadata": {
            "byteLimit": 2048000,
            "rowLimit": 10000
          },
          "inputWidgets": {},
          "nuid": "8ef20a5f-6d9c-42f4-9cfb-336fa45ffeb8",
          "showTitle": false,
          "title": ""
        },
        "id": "nyuUfi26jItQ",
        "outputId": "d9bf69d9-b10e-41a1-8132-d3d6ad4d2f54"
      },
      "outputs": [
        {
          "output_type": "stream",
          "name": "stdout",
          "text": [
            "Out[67]: <pyspark.sql.group.GroupedData at 0x7fd5d9e87fd0>"
          ]
        }
      ],
      "source": [
        "df.groupBy('sex')"
      ]
    },
    {
      "cell_type": "code",
      "execution_count": null,
      "metadata": {
        "application/vnd.databricks.v1+cell": {
          "cellMetadata": {
            "byteLimit": 2048000,
            "rowLimit": 10000
          },
          "inputWidgets": {},
          "nuid": "d55bc7e5-878f-44f7-9dee-2dfaec11ef62",
          "showTitle": false,
          "title": ""
        },
        "id": "KXAstp-_jItQ",
        "outputId": "c14d0abf-f162-47e0-ad6a-224528b1aa1f"
      },
      "outputs": [
        {
          "output_type": "stream",
          "name": "stdout",
          "text": [
            "+------+-----+\n|   sex|count|\n+------+-----+\n|Female|  501|\n|  Male|  499|\n+------+-----+\n\n"
          ]
        }
      ],
      "source": [
        "df.groupBy('sex').count().show()"
      ]
    },
    {
      "cell_type": "code",
      "execution_count": null,
      "metadata": {
        "application/vnd.databricks.v1+cell": {
          "cellMetadata": {
            "byteLimit": 2048000,
            "rowLimit": 10000
          },
          "inputWidgets": {},
          "nuid": "eef8249e-68d7-486b-947c-5ee58829499e",
          "showTitle": false,
          "title": ""
        },
        "id": "cWjr5mZhjItQ",
        "outputId": "164c2c66-412a-49f1-a2d6-6f6441fd668e"
      },
      "outputs": [
        {
          "output_type": "stream",
          "name": "stdout",
          "text": [
            "+------+-----+\n|course|count|\n+------+-----+\n|    PF|  166|\n|    DB|  157|\n|   MVC|  157|\n|   DSA|  176|\n| Cloud|  192|\n|   OOP|  152|\n+------+-----+\n\n"
          ]
        }
      ],
      "source": [
        "df.groupBy('course').count().show()"
      ]
    },
    {
      "cell_type": "code",
      "execution_count": null,
      "metadata": {
        "application/vnd.databricks.v1+cell": {
          "cellMetadata": {
            "byteLimit": 2048000,
            "rowLimit": 10000
          },
          "inputWidgets": {},
          "nuid": "4acbf088-667b-4dd2-b098-6221ae1c9337",
          "showTitle": false,
          "title": ""
        },
        "id": "eQdGnkARjItQ",
        "outputId": "6c961181-8531-4b7f-a978-bddd46318a60"
      },
      "outputs": [
        {
          "output_type": "stream",
          "name": "stdout",
          "text": [
            "+------+----------+\n|   sex|max(marks)|\n+------+----------+\n|Female|       109|\n|  Male|       109|\n+------+----------+\n\n"
          ]
        }
      ],
      "source": [
        "df.groupBy('sex').max('marks').show()"
      ]
    },
    {
      "cell_type": "code",
      "execution_count": null,
      "metadata": {
        "application/vnd.databricks.v1+cell": {
          "cellMetadata": {
            "byteLimit": 2048000,
            "rowLimit": 10000
          },
          "inputWidgets": {},
          "nuid": "5b8ad0f1-6bed-47c1-b266-e6fc4137d892",
          "showTitle": false,
          "title": ""
        },
        "id": "4HT5x61TjItQ",
        "outputId": "85455475-e771-4dc0-ac7f-3aafe0a0a661"
      },
      "outputs": [
        {
          "output_type": "stream",
          "name": "stdout",
          "text": [
            "+------+----------+\n|   sex|min(marks)|\n+------+----------+\n|Female|        30|\n|  Male|        30|\n+------+----------+\n\n"
          ]
        }
      ],
      "source": [
        "df.groupBy('sex').min('marks').show()"
      ]
    },
    {
      "cell_type": "code",
      "execution_count": null,
      "metadata": {
        "application/vnd.databricks.v1+cell": {
          "cellMetadata": {
            "byteLimit": 2048000,
            "rowLimit": 10000
          },
          "inputWidgets": {},
          "nuid": "60e72c61-fb2d-44cc-b9cf-8cb0afd0a145",
          "showTitle": false,
          "title": ""
        },
        "id": "QzgbGj_NjItR",
        "outputId": "f29d6a9c-5caa-449a-d7cb-31596ff22b0a"
      },
      "outputs": [
        {
          "output_type": "stream",
          "name": "stdout",
          "text": [
            "+------+-----------------+\n|   sex|       avg(marks)|\n+------+-----------------+\n|Female|69.15369261477046|\n|  Male| 71.0440881763527|\n+------+-----------------+\n\n"
          ]
        }
      ],
      "source": [
        "df.groupBy('sex').avg('marks').show()"
      ]
    },
    {
      "cell_type": "code",
      "execution_count": null,
      "metadata": {
        "application/vnd.databricks.v1+cell": {
          "cellMetadata": {},
          "inputWidgets": {},
          "nuid": "f7921dea-577c-451f-bfdd-6090beb055d4",
          "showTitle": false,
          "title": ""
        },
        "id": "LECybjbUjItR"
      },
      "outputs": [],
      "source": []
    },
    {
      "cell_type": "code",
      "execution_count": null,
      "metadata": {
        "application/vnd.databricks.v1+cell": {
          "cellMetadata": {},
          "inputWidgets": {},
          "nuid": "02f9305e-c2db-4523-af56-2b094747e046",
          "showTitle": false,
          "title": ""
        },
        "id": "pvPUF-0yjItR"
      },
      "outputs": [],
      "source": [
        "df.createTempView(\"tiny_df\")"
      ]
    },
    {
      "cell_type": "code",
      "execution_count": null,
      "metadata": {
        "application/vnd.databricks.v1+cell": {
          "cellMetadata": {
            "byteLimit": 2048000,
            "rowLimit": 10000
          },
          "inputWidgets": {},
          "nuid": "6b96d792-c8c1-419b-9570-74c8c02931b9",
          "showTitle": false,
          "title": ""
        },
        "id": "8mRtdIdtjItR",
        "outputId": "39af6b64-d4fe-494d-c6ca-9cc53c05c4ac"
      },
      "outputs": [
        {
          "output_type": "stream",
          "name": "stdout",
          "text": [
            "+---+------+----------------+------+------+-----+--------------------+\n|age|gender|            name|course|  roll|marks|               email|\n+---+------+----------------+------+------+-----+--------------------+\n| 28|Female| Hubert Oliveras|    DB|  2984|   59|Annika Hoffman_Na...|\n| 29|Female|Toshiko Hillyard| Cloud| 12899|   62|Margene Moores_Ma...|\n| 28|  Male|  Celeste Lollis|    PF| 21267|   45|Jeannetta Golden_...|\n| 29|Female|    Elenore Choy|    DB| 32877|   29|Billi Clore_Mitzi...|\n| 28|  Male|  Sheryll Towler|   DSA| 41487|   41|Claude Panos_Judi...|\n| 28|  Male|  Margene Moores|   MVC| 52771|   32|Toshiko Hillyard_...|\n| 28|  Male|     Neda Briski|   OOP| 61973|   69|Alberta Freund_El...|\n| 28|Female|    Claude Panos| Cloud| 72409|   85|Sheryll Towler_Al...|\n| 28|  Male|  Celeste Lollis|   MVC| 81492|   64|Nicole Harwood_Cl...|\n| 29|  Male|  Cordie Harnois|   OOP| 92882|   51|Judie Chipps_Clem...|\n| 29|Female|       Kena Wild|   DSA|102285|   35|Dustin Feagins_Ma...|\n| 29|  Male| Ernest Rossbach|    DB|111449|   53|Maybell Duguay_Ab...|\n| 28|Female|  Latia Vanhoose|    DB|122502|   27|Latia Vanhoose_Mi...|\n| 29|Female|  Latia Vanhoose|   MVC|132110|   55|Eda Neathery_Nico...|\n| 29|  Male|     Neda Briski|    PF|141770|   42|Margene Moores_Mi...|\n| 29|Female|  Latia Vanhoose|    DB|152159|   27|Claude Panos_Sant...|\n| 29|  Male|  Loris Crossett|   MVC|161771|   36|Mitzi Seldon_Jenn...|\n| 29|  Male|  Annika Hoffman|   OOP|171660|   22|Taryn Brownlee_Mi...|\n| 29|  Male|   Santa Kerfien|    PF|182129|   56|Judie Chipps_Tary...|\n| 28|Female|Mickey Cortright|    DB|192537|   62|Ernest Rossbach_M...|\n+---+------+----------------+------+------+-----+--------------------+\nonly showing top 20 rows\n\n"
          ]
        }
      ],
      "source": [
        "\n",
        "# query from a PySpark DataFrame\n",
        "query = \"\"\"SELECT * FROM tiny_df \"\"\"\n",
        "spark.sql(query).show()"
      ]
    },
    {
      "cell_type": "code",
      "execution_count": null,
      "metadata": {
        "application/vnd.databricks.v1+cell": {
          "cellMetadata": {
            "byteLimit": 2048000,
            "rowLimit": 10000
          },
          "inputWidgets": {},
          "nuid": "7613cc36-0c8b-4a25-aafc-d54646030f77",
          "showTitle": false,
          "title": ""
        },
        "id": "Leosf555jItR",
        "outputId": "5f8e314e-91c3-406d-c981-be061452b27b"
      },
      "outputs": [
        {
          "output_type": "stream",
          "name": "stdout",
          "text": [
            "+----------------+---+\n|            name|age|\n+----------------+---+\n| Hubert Oliveras| 28|\n|Toshiko Hillyard| 29|\n|  Celeste Lollis| 28|\n|    Elenore Choy| 29|\n|  Sheryll Towler| 28|\n|  Margene Moores| 28|\n|     Neda Briski| 28|\n|    Claude Panos| 28|\n|  Celeste Lollis| 28|\n|  Cordie Harnois| 29|\n|       Kena Wild| 29|\n| Ernest Rossbach| 29|\n|  Latia Vanhoose| 28|\n|  Latia Vanhoose| 29|\n|     Neda Briski| 29|\n|  Latia Vanhoose| 29|\n|  Loris Crossett| 29|\n|  Annika Hoffman| 29|\n|   Santa Kerfien| 29|\n|Mickey Cortright| 28|\n+----------------+---+\nonly showing top 20 rows\n\n"
          ]
        }
      ],
      "source": [
        "\n",
        "# query from a PySpark DataFrame\n",
        "query = \"\"\"SELECT name,age FROM tiny_df \"\"\"\n",
        "spark.sql(query).show()"
      ]
    },
    {
      "cell_type": "code",
      "execution_count": null,
      "metadata": {
        "application/vnd.databricks.v1+cell": {
          "cellMetadata": {},
          "inputWidgets": {},
          "nuid": "b3f45693-f6d4-4f3c-9afb-c7e2a9a4c0f8",
          "showTitle": false,
          "title": ""
        },
        "id": "WAt1_6TAjItR"
      },
      "outputs": [],
      "source": []
    }
  ],
  "metadata": {
    "application/vnd.databricks.v1+notebook": {
      "dashboards": [],
      "language": "python",
      "notebookMetadata": {
        "mostRecentlyExecutedCommandWithImplicitDF": {
          "commandId": -1,
          "dataframes": [
            "_sqldf"
          ]
        },
        "pythonIndentUnit": 4
      },
      "notebookName": "Final PySpark Dataframe",
      "widgets": {}
    },
    "kernelspec": {
      "display_name": "Python 3 (ipykernel)",
      "language": "python",
      "name": "python3"
    },
    "language_info": {
      "codemirror_mode": {
        "name": "ipython",
        "version": 3
      },
      "file_extension": ".py",
      "mimetype": "text/x-python",
      "name": "python",
      "nbconvert_exporter": "python",
      "pygments_lexer": "ipython3",
      "version": "3.10.9"
    },
    "colab": {
      "provenance": []
    }
  },
  "nbformat": 4,
  "nbformat_minor": 0
}