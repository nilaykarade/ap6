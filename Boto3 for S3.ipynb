{
 "cells": [
  {
   "cell_type": "code",
   "execution_count": 1,
   "id": "aa46d26f",
   "metadata": {
    "collapsed": true
   },
   "outputs": [
    {
     "name": "stdout",
     "output_type": "stream",
     "text": [
      "Requirement already satisfied: boto3 in c:\\users\\nilay\\anaconda3\\lib\\site-packages (1.28.25)\n",
      "Requirement already satisfied: s3transfer<0.7.0,>=0.6.0 in c:\\users\\nilay\\anaconda3\\lib\\site-packages (from boto3) (0.6.1)\n",
      "Requirement already satisfied: botocore<1.32.0,>=1.31.25 in c:\\users\\nilay\\anaconda3\\lib\\site-packages (from boto3) (1.31.25)\n",
      "Requirement already satisfied: jmespath<2.0.0,>=0.7.1 in c:\\users\\nilay\\anaconda3\\lib\\site-packages (from boto3) (0.10.0)\n",
      "Requirement already satisfied: urllib3<1.27,>=1.25.4 in c:\\users\\nilay\\anaconda3\\lib\\site-packages (from botocore<1.32.0,>=1.31.25->boto3) (1.26.14)\n",
      "Requirement already satisfied: python-dateutil<3.0.0,>=2.1 in c:\\users\\nilay\\anaconda3\\lib\\site-packages (from botocore<1.32.0,>=1.31.25->boto3) (2.8.2)\n",
      "Requirement already satisfied: six>=1.5 in c:\\users\\nilay\\anaconda3\\lib\\site-packages (from python-dateutil<3.0.0,>=2.1->botocore<1.32.0,>=1.31.25->boto3) (1.16.0)\n"
     ]
    },
    {
     "name": "stderr",
     "output_type": "stream",
     "text": [
      "WARNING: Ignoring invalid distribution -yspark (c:\\users\\nilay\\anaconda3\\lib\\site-packages)\n",
      "WARNING: Ignoring invalid distribution -rotobuf (c:\\users\\nilay\\anaconda3\\lib\\site-packages)\n",
      "WARNING: Ignoring invalid distribution -ensorflow-intel (c:\\users\\nilay\\anaconda3\\lib\\site-packages)\n",
      "WARNING: Ignoring invalid distribution -yspark (c:\\users\\nilay\\anaconda3\\lib\\site-packages)\n",
      "WARNING: Ignoring invalid distribution -rotobuf (c:\\users\\nilay\\anaconda3\\lib\\site-packages)\n",
      "WARNING: Ignoring invalid distribution -ensorflow-intel (c:\\users\\nilay\\anaconda3\\lib\\site-packages)\n",
      "WARNING: Ignoring invalid distribution -yspark (c:\\users\\nilay\\anaconda3\\lib\\site-packages)\n",
      "WARNING: Ignoring invalid distribution -rotobuf (c:\\users\\nilay\\anaconda3\\lib\\site-packages)\n",
      "WARNING: Ignoring invalid distribution -ensorflow-intel (c:\\users\\nilay\\anaconda3\\lib\\site-packages)\n",
      "WARNING: Ignoring invalid distribution -yspark (c:\\users\\nilay\\anaconda3\\lib\\site-packages)\n",
      "WARNING: Ignoring invalid distribution -rotobuf (c:\\users\\nilay\\anaconda3\\lib\\site-packages)\n",
      "WARNING: Ignoring invalid distribution -ensorflow-intel (c:\\users\\nilay\\anaconda3\\lib\\site-packages)\n",
      "WARNING: Ignoring invalid distribution -yspark (c:\\users\\nilay\\anaconda3\\lib\\site-packages)\n",
      "WARNING: Ignoring invalid distribution -rotobuf (c:\\users\\nilay\\anaconda3\\lib\\site-packages)\n",
      "WARNING: Ignoring invalid distribution -ensorflow-intel (c:\\users\\nilay\\anaconda3\\lib\\site-packages)\n",
      "WARNING: Ignoring invalid distribution -yspark (c:\\users\\nilay\\anaconda3\\lib\\site-packages)\n",
      "WARNING: Ignoring invalid distribution -rotobuf (c:\\users\\nilay\\anaconda3\\lib\\site-packages)\n",
      "WARNING: Ignoring invalid distribution -ensorflow-intel (c:\\users\\nilay\\anaconda3\\lib\\site-packages)\n"
     ]
    }
   ],
   "source": [
    "!pip install boto3"
   ]
  },
  {
   "cell_type": "code",
   "execution_count": 2,
   "id": "27fce411",
   "metadata": {},
   "outputs": [],
   "source": [
    "import pandas as pd\n",
    "import boto3"
   ]
  },
  {
   "cell_type": "code",
   "execution_count": 7,
   "id": "2fa56fa7",
   "metadata": {},
   "outputs": [],
   "source": [
    "bucket = \"demo-nilay-aug5\"\n",
    "file_name = \"StudentData.csv\""
   ]
  },
  {
   "cell_type": "code",
   "execution_count": 8,
   "id": "f1a91f08",
   "metadata": {},
   "outputs": [],
   "source": [
    "s3 = boto3.client('s3',\n",
    "                 aws_access_key_id='',\n",
    "                 aws_secret_access_key=''\n",
    "                 region_name='us-east-1')"
   ]
  },
  {
   "cell_type": "code",
   "execution_count": 9,
   "id": "13d1f8ec",
   "metadata": {},
   "outputs": [],
   "source": [
    "obj = s3.get_object(Bucket=bucket, Key=file_name)"
   ]
  },
  {
   "cell_type": "code",
   "execution_count": 10,
   "id": "6bbd0e3c",
   "metadata": {},
   "outputs": [],
   "source": [
    "df = pd.read_csv(obj['Body']) # 'Body' is a key word"
   ]
  },
  {
   "cell_type": "code",
   "execution_count": 11,
   "id": "397d615d",
   "metadata": {},
   "outputs": [
    {
     "data": {
      "text/html": [
       "<div>\n",
       "<style scoped>\n",
       "    .dataframe tbody tr th:only-of-type {\n",
       "        vertical-align: middle;\n",
       "    }\n",
       "\n",
       "    .dataframe tbody tr th {\n",
       "        vertical-align: top;\n",
       "    }\n",
       "\n",
       "    .dataframe thead th {\n",
       "        text-align: right;\n",
       "    }\n",
       "</style>\n",
       "<table border=\"1\" class=\"dataframe\">\n",
       "  <thead>\n",
       "    <tr style=\"text-align: right;\">\n",
       "      <th></th>\n",
       "      <th>age</th>\n",
       "      <th>gender</th>\n",
       "      <th>name</th>\n",
       "      <th>course</th>\n",
       "      <th>roll</th>\n",
       "      <th>marks</th>\n",
       "      <th>email</th>\n",
       "    </tr>\n",
       "  </thead>\n",
       "  <tbody>\n",
       "    <tr>\n",
       "      <th>0</th>\n",
       "      <td>28</td>\n",
       "      <td>Female</td>\n",
       "      <td>Hubert Oliveras</td>\n",
       "      <td>DB</td>\n",
       "      <td>2984</td>\n",
       "      <td>59</td>\n",
       "      <td>Annika Hoffman_Naoma Fritts@OOP.com</td>\n",
       "    </tr>\n",
       "    <tr>\n",
       "      <th>1</th>\n",
       "      <td>29</td>\n",
       "      <td>Female</td>\n",
       "      <td>Toshiko Hillyard</td>\n",
       "      <td>Cloud</td>\n",
       "      <td>12899</td>\n",
       "      <td>62</td>\n",
       "      <td>Margene Moores_Marylee Capasso@DB.com</td>\n",
       "    </tr>\n",
       "    <tr>\n",
       "      <th>2</th>\n",
       "      <td>28</td>\n",
       "      <td>Male</td>\n",
       "      <td>Celeste Lollis</td>\n",
       "      <td>PF</td>\n",
       "      <td>21267</td>\n",
       "      <td>45</td>\n",
       "      <td>Jeannetta Golden_Jenna Montague@DSA.com</td>\n",
       "    </tr>\n",
       "    <tr>\n",
       "      <th>3</th>\n",
       "      <td>29</td>\n",
       "      <td>Female</td>\n",
       "      <td>Elenore Choy</td>\n",
       "      <td>DB</td>\n",
       "      <td>32877</td>\n",
       "      <td>29</td>\n",
       "      <td>Billi Clore_Mitzi Seldon@DB.com</td>\n",
       "    </tr>\n",
       "    <tr>\n",
       "      <th>4</th>\n",
       "      <td>28</td>\n",
       "      <td>Male</td>\n",
       "      <td>Sheryll Towler</td>\n",
       "      <td>DSA</td>\n",
       "      <td>41487</td>\n",
       "      <td>41</td>\n",
       "      <td>Claude Panos_Judie Chipps@OOP.com</td>\n",
       "    </tr>\n",
       "  </tbody>\n",
       "</table>\n",
       "</div>"
      ],
      "text/plain": [
       "   age  gender              name course   roll  marks  \\\n",
       "0   28  Female   Hubert Oliveras     DB   2984     59   \n",
       "1   29  Female  Toshiko Hillyard  Cloud  12899     62   \n",
       "2   28    Male    Celeste Lollis     PF  21267     45   \n",
       "3   29  Female      Elenore Choy     DB  32877     29   \n",
       "4   28    Male    Sheryll Towler    DSA  41487     41   \n",
       "\n",
       "                                     email  \n",
       "0      Annika Hoffman_Naoma Fritts@OOP.com  \n",
       "1    Margene Moores_Marylee Capasso@DB.com  \n",
       "2  Jeannetta Golden_Jenna Montague@DSA.com  \n",
       "3          Billi Clore_Mitzi Seldon@DB.com  \n",
       "4        Claude Panos_Judie Chipps@OOP.com  "
      ]
     },
     "execution_count": 11,
     "metadata": {},
     "output_type": "execute_result"
    }
   ],
   "source": [
    "df.head()"
   ]
  },
  {
   "cell_type": "code",
   "execution_count": null,
   "id": "d0255351",
   "metadata": {},
   "outputs": [],
   "source": []
  }
 ],
 "metadata": {
  "kernelspec": {
   "display_name": "Python 3 (ipykernel)",
   "language": "python",
   "name": "python3"
  },
  "language_info": {
   "codemirror_mode": {
    "name": "ipython",
    "version": 3
   },
   "file_extension": ".py",
   "mimetype": "text/x-python",
   "name": "python",
   "nbconvert_exporter": "python",
   "pygments_lexer": "ipython3",
   "version": "3.10.9"
  }
 },
 "nbformat": 4,
 "nbformat_minor": 5
}
